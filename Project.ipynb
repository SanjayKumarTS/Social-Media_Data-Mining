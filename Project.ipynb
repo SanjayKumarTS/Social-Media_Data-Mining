{
 "cells": [
  {
   "attachments": {},
   "cell_type": "markdown",
   "metadata": {},
   "source": [
    "**Importing the Training Dataset**\n",
    "\n",
    "This dataset consists of tweets and their classification of toxicity levels."
   ]
  },
  {
   "cell_type": "code",
   "execution_count": 32,
   "metadata": {},
   "outputs": [
    {
     "data": {
      "text/html": [
       "<div>\n",
       "<style scoped>\n",
       "    .dataframe tbody tr th:only-of-type {\n",
       "        vertical-align: middle;\n",
       "    }\n",
       "\n",
       "    .dataframe tbody tr th {\n",
       "        vertical-align: top;\n",
       "    }\n",
       "\n",
       "    .dataframe thead th {\n",
       "        text-align: right;\n",
       "    }\n",
       "</style>\n",
       "<table border=\"1\" class=\"dataframe\">\n",
       "  <thead>\n",
       "    <tr style=\"text-align: right;\">\n",
       "      <th></th>\n",
       "      <th>id</th>\n",
       "      <th>comment_text</th>\n",
       "      <th>toxic</th>\n",
       "      <th>severe_toxic</th>\n",
       "      <th>obscene</th>\n",
       "      <th>threat</th>\n",
       "      <th>insult</th>\n",
       "      <th>identity_hate</th>\n",
       "    </tr>\n",
       "  </thead>\n",
       "  <tbody>\n",
       "    <tr>\n",
       "      <th>0</th>\n",
       "      <td>0000997932d777bf</td>\n",
       "      <td>Explanation\\nWhy the edits made under my usern...</td>\n",
       "      <td>0</td>\n",
       "      <td>0</td>\n",
       "      <td>0</td>\n",
       "      <td>0</td>\n",
       "      <td>0</td>\n",
       "      <td>0</td>\n",
       "    </tr>\n",
       "    <tr>\n",
       "      <th>1</th>\n",
       "      <td>000103f0d9cfb60f</td>\n",
       "      <td>D'aww! He matches this background colour I'm s...</td>\n",
       "      <td>0</td>\n",
       "      <td>0</td>\n",
       "      <td>0</td>\n",
       "      <td>0</td>\n",
       "      <td>0</td>\n",
       "      <td>0</td>\n",
       "    </tr>\n",
       "    <tr>\n",
       "      <th>2</th>\n",
       "      <td>000113f07ec002fd</td>\n",
       "      <td>Hey man, I'm really not trying to edit war. It...</td>\n",
       "      <td>0</td>\n",
       "      <td>0</td>\n",
       "      <td>0</td>\n",
       "      <td>0</td>\n",
       "      <td>0</td>\n",
       "      <td>0</td>\n",
       "    </tr>\n",
       "    <tr>\n",
       "      <th>3</th>\n",
       "      <td>0001b41b1c6bb37e</td>\n",
       "      <td>\"\\nMore\\nI can't make any real suggestions on ...</td>\n",
       "      <td>0</td>\n",
       "      <td>0</td>\n",
       "      <td>0</td>\n",
       "      <td>0</td>\n",
       "      <td>0</td>\n",
       "      <td>0</td>\n",
       "    </tr>\n",
       "    <tr>\n",
       "      <th>4</th>\n",
       "      <td>0001d958c54c6e35</td>\n",
       "      <td>You, sir, are my hero. Any chance you remember...</td>\n",
       "      <td>0</td>\n",
       "      <td>0</td>\n",
       "      <td>0</td>\n",
       "      <td>0</td>\n",
       "      <td>0</td>\n",
       "      <td>0</td>\n",
       "    </tr>\n",
       "  </tbody>\n",
       "</table>\n",
       "</div>"
      ],
      "text/plain": [
       "                 id                                       comment_text  toxic  \\\n",
       "0  0000997932d777bf  Explanation\\nWhy the edits made under my usern...      0   \n",
       "1  000103f0d9cfb60f  D'aww! He matches this background colour I'm s...      0   \n",
       "2  000113f07ec002fd  Hey man, I'm really not trying to edit war. It...      0   \n",
       "3  0001b41b1c6bb37e  \"\\nMore\\nI can't make any real suggestions on ...      0   \n",
       "4  0001d958c54c6e35  You, sir, are my hero. Any chance you remember...      0   \n",
       "\n",
       "   severe_toxic  obscene  threat  insult  identity_hate  \n",
       "0             0        0       0       0              0  \n",
       "1             0        0       0       0              0  \n",
       "2             0        0       0       0              0  \n",
       "3             0        0       0       0              0  \n",
       "4             0        0       0       0              0  "
      ]
     },
     "execution_count": 32,
     "metadata": {},
     "output_type": "execute_result"
    }
   ],
   "source": [
    "import pandas as pd\n",
    "import numpy as np\n",
    "import matplotlib.pyplot as plt\n",
    "\n",
    "DATASET_ENCODING = \"ISO-8859-1\"\n",
    "dataframe = pd.read_csv(\"./Dataset/train.csv\", encoding = DATASET_ENCODING)\n",
    "dataframe.head()\n",
    "\n"
   ]
  },
  {
   "cell_type": "code",
   "execution_count": 33,
   "metadata": {},
   "outputs": [
    {
     "data": {
      "text/html": [
       "<div>\n",
       "<style scoped>\n",
       "    .dataframe tbody tr th:only-of-type {\n",
       "        vertical-align: middle;\n",
       "    }\n",
       "\n",
       "    .dataframe tbody tr th {\n",
       "        vertical-align: top;\n",
       "    }\n",
       "\n",
       "    .dataframe thead th {\n",
       "        text-align: right;\n",
       "    }\n",
       "</style>\n",
       "<table border=\"1\" class=\"dataframe\">\n",
       "  <thead>\n",
       "    <tr style=\"text-align: right;\">\n",
       "      <th></th>\n",
       "      <th>id</th>\n",
       "      <th>comment_text</th>\n",
       "      <th>toxic</th>\n",
       "      <th>severe_toxic</th>\n",
       "      <th>obscene</th>\n",
       "      <th>threat</th>\n",
       "      <th>insult</th>\n",
       "      <th>identity_hate</th>\n",
       "    </tr>\n",
       "  </thead>\n",
       "  <tbody>\n",
       "    <tr>\n",
       "      <th>0</th>\n",
       "      <td>0000997932d777bf</td>\n",
       "      <td>Explanation\\nWhy the edits made under my usern...</td>\n",
       "      <td>0</td>\n",
       "      <td>0</td>\n",
       "      <td>0</td>\n",
       "      <td>0</td>\n",
       "      <td>0</td>\n",
       "      <td>0</td>\n",
       "    </tr>\n",
       "    <tr>\n",
       "      <th>1</th>\n",
       "      <td>000103f0d9cfb60f</td>\n",
       "      <td>D'aww! He matches this background colour I'm s...</td>\n",
       "      <td>0</td>\n",
       "      <td>0</td>\n",
       "      <td>0</td>\n",
       "      <td>0</td>\n",
       "      <td>0</td>\n",
       "      <td>0</td>\n",
       "    </tr>\n",
       "    <tr>\n",
       "      <th>2</th>\n",
       "      <td>000113f07ec002fd</td>\n",
       "      <td>Hey man, I'm really not trying to edit war. It...</td>\n",
       "      <td>0</td>\n",
       "      <td>0</td>\n",
       "      <td>0</td>\n",
       "      <td>0</td>\n",
       "      <td>0</td>\n",
       "      <td>0</td>\n",
       "    </tr>\n",
       "    <tr>\n",
       "      <th>3</th>\n",
       "      <td>0001b41b1c6bb37e</td>\n",
       "      <td>\"\\nMore\\nI can't make any real suggestions on ...</td>\n",
       "      <td>0</td>\n",
       "      <td>0</td>\n",
       "      <td>0</td>\n",
       "      <td>0</td>\n",
       "      <td>0</td>\n",
       "      <td>0</td>\n",
       "    </tr>\n",
       "    <tr>\n",
       "      <th>4</th>\n",
       "      <td>0001d958c54c6e35</td>\n",
       "      <td>You, sir, are my hero. Any chance you remember...</td>\n",
       "      <td>0</td>\n",
       "      <td>0</td>\n",
       "      <td>0</td>\n",
       "      <td>0</td>\n",
       "      <td>0</td>\n",
       "      <td>0</td>\n",
       "    </tr>\n",
       "    <tr>\n",
       "      <th>...</th>\n",
       "      <td>...</td>\n",
       "      <td>...</td>\n",
       "      <td>...</td>\n",
       "      <td>...</td>\n",
       "      <td>...</td>\n",
       "      <td>...</td>\n",
       "      <td>...</td>\n",
       "      <td>...</td>\n",
       "    </tr>\n",
       "    <tr>\n",
       "      <th>159566</th>\n",
       "      <td>ffe987279560d7ff</td>\n",
       "      <td>\":::::And for the second time of asking, when ...</td>\n",
       "      <td>0</td>\n",
       "      <td>0</td>\n",
       "      <td>0</td>\n",
       "      <td>0</td>\n",
       "      <td>0</td>\n",
       "      <td>0</td>\n",
       "    </tr>\n",
       "    <tr>\n",
       "      <th>159567</th>\n",
       "      <td>ffea4adeee384e90</td>\n",
       "      <td>You should be ashamed of yourself \\n\\nThat is ...</td>\n",
       "      <td>0</td>\n",
       "      <td>0</td>\n",
       "      <td>0</td>\n",
       "      <td>0</td>\n",
       "      <td>0</td>\n",
       "      <td>0</td>\n",
       "    </tr>\n",
       "    <tr>\n",
       "      <th>159568</th>\n",
       "      <td>ffee36eab5c267c9</td>\n",
       "      <td>Spitzer \\n\\nUmm, theres no actual article for ...</td>\n",
       "      <td>0</td>\n",
       "      <td>0</td>\n",
       "      <td>0</td>\n",
       "      <td>0</td>\n",
       "      <td>0</td>\n",
       "      <td>0</td>\n",
       "    </tr>\n",
       "    <tr>\n",
       "      <th>159569</th>\n",
       "      <td>fff125370e4aaaf3</td>\n",
       "      <td>And it looks like it was actually you who put ...</td>\n",
       "      <td>0</td>\n",
       "      <td>0</td>\n",
       "      <td>0</td>\n",
       "      <td>0</td>\n",
       "      <td>0</td>\n",
       "      <td>0</td>\n",
       "    </tr>\n",
       "    <tr>\n",
       "      <th>159570</th>\n",
       "      <td>fff46fc426af1f9a</td>\n",
       "      <td>\"\\nAnd ... I really don't think you understand...</td>\n",
       "      <td>0</td>\n",
       "      <td>0</td>\n",
       "      <td>0</td>\n",
       "      <td>0</td>\n",
       "      <td>0</td>\n",
       "      <td>0</td>\n",
       "    </tr>\n",
       "  </tbody>\n",
       "</table>\n",
       "<p>159571 rows × 8 columns</p>\n",
       "</div>"
      ],
      "text/plain": [
       "                      id                                       comment_text  \\\n",
       "0       0000997932d777bf  Explanation\\nWhy the edits made under my usern...   \n",
       "1       000103f0d9cfb60f  D'aww! He matches this background colour I'm s...   \n",
       "2       000113f07ec002fd  Hey man, I'm really not trying to edit war. It...   \n",
       "3       0001b41b1c6bb37e  \"\\nMore\\nI can't make any real suggestions on ...   \n",
       "4       0001d958c54c6e35  You, sir, are my hero. Any chance you remember...   \n",
       "...                  ...                                                ...   \n",
       "159566  ffe987279560d7ff  \":::::And for the second time of asking, when ...   \n",
       "159567  ffea4adeee384e90  You should be ashamed of yourself \\n\\nThat is ...   \n",
       "159568  ffee36eab5c267c9  Spitzer \\n\\nUmm, theres no actual article for ...   \n",
       "159569  fff125370e4aaaf3  And it looks like it was actually you who put ...   \n",
       "159570  fff46fc426af1f9a  \"\\nAnd ... I really don't think you understand...   \n",
       "\n",
       "        toxic  severe_toxic  obscene  threat  insult  identity_hate  \n",
       "0           0             0        0       0       0              0  \n",
       "1           0             0        0       0       0              0  \n",
       "2           0             0        0       0       0              0  \n",
       "3           0             0        0       0       0              0  \n",
       "4           0             0        0       0       0              0  \n",
       "...       ...           ...      ...     ...     ...            ...  \n",
       "159566      0             0        0       0       0              0  \n",
       "159567      0             0        0       0       0              0  \n",
       "159568      0             0        0       0       0              0  \n",
       "159569      0             0        0       0       0              0  \n",
       "159570      0             0        0       0       0              0  \n",
       "\n",
       "[159571 rows x 8 columns]"
      ]
     },
     "execution_count": 33,
     "metadata": {},
     "output_type": "execute_result"
    }
   ],
   "source": [
    "dataframe"
   ]
  },
  {
   "cell_type": "code",
   "execution_count": 34,
   "metadata": {},
   "outputs": [
    {
     "data": {
      "text/plain": [
       "<BarContainer object of 6 artists>"
      ]
     },
     "execution_count": 34,
     "metadata": {},
     "output_type": "execute_result"
    },
    {
     "data": {
      "text/plain": [
       "Text(0.5, 1.0, 'Distribution of Toxic Behaviors in Tweets')"
      ]
     },
     "execution_count": 34,
     "metadata": {},
     "output_type": "execute_result"
    },
    {
     "data": {
      "text/plain": [
       "Text(0.5, 0, 'Type of Toxic Behavior')"
      ]
     },
     "execution_count": 34,
     "metadata": {},
     "output_type": "execute_result"
    },
    {
     "data": {
      "text/plain": [
       "Text(0, 0.5, 'Count')"
      ]
     },
     "execution_count": 34,
     "metadata": {},
     "output_type": "execute_result"
    },
    {
     "data": {
      "image/png": "[encoded data removed]",
      "text/plain": [
       "<Figure size 640x480 with 1 Axes>"
      ]
     },
     "metadata": {},
     "output_type": "display_data"
    }
   ],
   "source": [
    "counts = dataframe.iloc[:,2:].sum()\n",
    "\n",
    "# Create a stacked bar chart\n",
    "plt.bar(counts.index, counts, color=['C0', 'C1', 'C2', 'C3', 'C4', 'C5'])\n",
    "plt.title(\"Distribution of Toxic Behaviors in Tweets\")\n",
    "plt.xlabel(\"Type of Toxic Behavior\")\n",
    "plt.ylabel(\"Count\")\n",
    "plt.show()\n"
   ]
  },
  {
   "attachments": {},
   "cell_type": "markdown",
   "metadata": {},
   "source": [
    "**Massaging the Dataset**\n",
    "\n",
    "We don't need the levels of toxicity, we only need to know if the tweet is toxic or non-toxic. Hence, removing the un-necessary columns and adding target column (0 - Toxic, 1 - Non-Toxic). "
   ]
  },
  {
   "cell_type": "code",
   "execution_count": 35,
   "metadata": {},
   "outputs": [
    {
     "data": {
      "text/html": [
       "<div>\n",
       "<style scoped>\n",
       "    .dataframe tbody tr th:only-of-type {\n",
       "        vertical-align: middle;\n",
       "    }\n",
       "\n",
       "    .dataframe tbody tr th {\n",
       "        vertical-align: top;\n",
       "    }\n",
       "\n",
       "    .dataframe thead th {\n",
       "        text-align: right;\n",
       "    }\n",
       "</style>\n",
       "<table border=\"1\" class=\"dataframe\">\n",
       "  <thead>\n",
       "    <tr style=\"text-align: right;\">\n",
       "      <th></th>\n",
       "      <th>comment_text</th>\n",
       "      <th>target</th>\n",
       "    </tr>\n",
       "  </thead>\n",
       "  <tbody>\n",
       "    <tr>\n",
       "      <th>0</th>\n",
       "      <td>Explanation\\nWhy the edits made under my usern...</td>\n",
       "      <td>0</td>\n",
       "    </tr>\n",
       "    <tr>\n",
       "      <th>1</th>\n",
       "      <td>D'aww! He matches this background colour I'm s...</td>\n",
       "      <td>0</td>\n",
       "    </tr>\n",
       "    <tr>\n",
       "      <th>2</th>\n",
       "      <td>Hey man, I'm really not trying to edit war. It...</td>\n",
       "      <td>0</td>\n",
       "    </tr>\n",
       "    <tr>\n",
       "      <th>3</th>\n",
       "      <td>\"\\nMore\\nI can't make any real suggestions on ...</td>\n",
       "      <td>0</td>\n",
       "    </tr>\n",
       "    <tr>\n",
       "      <th>4</th>\n",
       "      <td>You, sir, are my hero. Any chance you remember...</td>\n",
       "      <td>0</td>\n",
       "    </tr>\n",
       "  </tbody>\n",
       "</table>\n",
       "</div>"
      ],
      "text/plain": [
       "                                        comment_text  target\n",
       "0  Explanation\\nWhy the edits made under my usern...       0\n",
       "1  D'aww! He matches this background colour I'm s...       0\n",
       "2  Hey man, I'm really not trying to edit war. It...       0\n",
       "3  \"\\nMore\\nI can't make any real suggestions on ...       0\n",
       "4  You, sir, are my hero. Any chance you remember...       0"
      ]
     },
     "execution_count": 35,
     "metadata": {},
     "output_type": "execute_result"
    }
   ],
   "source": [
    "dataframe[\"target\"] = [ 1 if row[\"toxic\"] == 1 or row[\"severe_toxic\"] == 1 or row[\"obscene\"] == 1 or row[\"threat\"] == 1 or row[\"insult\"] == 1 or row[\"identity_hate\"] == 1 else 0 for index, row in dataframe.iterrows()]\n",
    "dataframe = dataframe.drop(labels=[\"toxic\",\"severe_toxic\",\"obscene\",\"threat\",\"insult\",\"identity_hate\",\"id\"], axis=1)\n",
    "dataframe.head()"
   ]
  },
  {
   "attachments": {},
   "cell_type": "markdown",
   "metadata": {},
   "source": [
    "**Visualizations**"
   ]
  },
  {
   "cell_type": "code",
   "execution_count": 36,
   "metadata": {},
   "outputs": [
    {
     "data": {
      "text/plain": [
       "<BarContainer object of 2 artists>"
      ]
     },
     "execution_count": 36,
     "metadata": {},
     "output_type": "execute_result"
    },
    {
     "data": {
      "text/plain": [
       "Text(0.5, 1.0, 'Distribution of Toxic and Non-Toxic Tweets')"
      ]
     },
     "execution_count": 36,
     "metadata": {},
     "output_type": "execute_result"
    },
    {
     "data": {
      "text/plain": [
       "Text(0.5, 0, 'Tweet Type')"
      ]
     },
     "execution_count": 36,
     "metadata": {},
     "output_type": "execute_result"
    },
    {
     "data": {
      "text/plain": [
       "Text(0, 0.5, 'Count')"
      ]
     },
     "execution_count": 36,
     "metadata": {},
     "output_type": "execute_result"
    },
    {
     "data": {
      "image/png": "[encoded data removed]",
      "text/plain": [
       "<Figure size 640x480 with 1 Axes>"
      ]
     },
     "metadata": {},
     "output_type": "display_data"
    }
   ],
   "source": [
    "# Count the number of toxic and non-toxic tweets\n",
    "counts = dataframe[\"target\"].value_counts()\n",
    "\n",
    "# Create a bar chart\n",
    "plt.bar([\"Non-toxic\", \"Toxic\"], counts)\n",
    "plt.title(\"Distribution of Toxic and Non-Toxic Tweets\")\n",
    "plt.xlabel(\"Tweet Type\")\n",
    "plt.ylabel(\"Count\")\n",
    "plt.show()"
   ]
  },
  {
   "attachments": {},
   "cell_type": "markdown",
   "metadata": {},
   "source": [
    "**Splitting the dataset for Train and Test**"
   ]
  },
  {
   "cell_type": "code",
   "execution_count": 37,
   "metadata": {},
   "outputs": [],
   "source": [
    "from sklearn.model_selection import train_test_split\n",
    "X_train, X_test,Y_train, Y_test = train_test_split(dataframe[\"comment_text\"],dataframe[\"target\"] ,random_state=71, test_size=0.33, shuffle=True)"
   ]
  },
  {
   "attachments": {},
   "cell_type": "markdown",
   "metadata": {},
   "source": [
    "**Preprocessing the Training dataset**\n",
    "\n",
    "Preprocessing, both training and testing dataset. \n",
    "1. Remove URL's \n",
    "2. Remove mentions and hashtags\n",
    "3. Remove special characters and punctuation\n",
    "4. Convert to lowercase\n",
    "5. Remove extra whitespace"
   ]
  },
  {
   "cell_type": "code",
   "execution_count": 81,
   "metadata": {},
   "outputs": [],
   "source": [
    "import re\n",
    "\n",
    "def preprocess_tweet(tweet):\n",
    "    # Remove URLs\n",
    "    tweet = str(tweet)\n",
    "    tweet = re.sub(r\"http\\S+\", \"\", tweet)\n",
    "    # Remove mentions and hashtags\n",
    "    tweet = re.sub(r\"@[A-Za-z0-9]+\", \"\", tweet)\n",
    "    tweet = re.sub(r\"#[A-Za-z0-9]+\", \"\", tweet)\n",
    "    # Remove special characters and punctuation\n",
    "    tweet = re.sub(r\"[^a-zA-Z0-9]\", \" \", tweet)\n",
    "    # Convert to lowercase\n",
    "    tweet = tweet.lower()\n",
    "    # Remove extra whitespace\n",
    "    tweet = re.sub(r\"\\s+\", \" \", tweet).strip()\n",
    "    return tweet\n",
    "\n",
    "\n",
    "X_train = [preprocess_tweet(tweet) for tweet in X_train]\n",
    "X_test = [preprocess_tweet(tweet) for tweet in X_test]"
   ]
  },
  {
   "attachments": {},
   "cell_type": "markdown",
   "metadata": {},
   "source": [
    "**Initilizing TFID Vectorizer of SkLearn for feature extraction**"
   ]
  },
  {
   "cell_type": "code",
   "execution_count": 82,
   "metadata": {},
   "outputs": [],
   "source": [
    "from sklearn.feature_extraction.text import TfidfVectorizer\n",
    "vectorizer = TfidfVectorizer(stop_words='english')\n"
   ]
  },
  {
   "attachments": {},
   "cell_type": "markdown",
   "metadata": {},
   "source": [
    "**Naive Bayes Classifier**"
   ]
  },
  {
   "cell_type": "code",
   "execution_count": 99,
   "metadata": {},
   "outputs": [
    {
     "data": {
      "text/html": [
       "<style>#sk-container-id-13 {color: black;background-color: white;}#sk-container-id-13 pre{padding: 0;}#sk-container-id-13 div.sk-toggleable {background-color: white;}#sk-container-id-13 label.sk-toggleable__label {cursor: pointer;display: block;width: 100%;margin-bottom: 0;padding: 0.3em;box-sizing: border-box;text-align: center;}#sk-container-id-13 label.sk-toggleable__label-arrow:before {content: \"▸\";float: left;margin-right: 0.25em;color: #696969;}#sk-container-id-13 label.sk-toggleable__label-arrow:hover:before {color: black;}#sk-container-id-13 div.sk-estimator:hover label.sk-toggleable__label-arrow:before {color: black;}#sk-container-id-13 div.sk-toggleable__content {max-height: 0;max-width: 0;overflow: hidden;text-align: left;background-color: #f0f8ff;}#sk-container-id-13 div.sk-toggleable__content pre {margin: 0.2em;color: black;border-radius: 0.25em;background-color: #f0f8ff;}#sk-container-id-13 input.sk-toggleable__control:checked~div.sk-toggleable__content {max-height: 200px;max-width: 100%;overflow: auto;}#sk-container-id-13 input.sk-toggleable__control:checked~label.sk-toggleable__label-arrow:before {content: \"▾\";}#sk-container-id-13 div.sk-estimator input.sk-toggleable__control:checked~label.sk-toggleable__label {background-color: #d4ebff;}#sk-container-id-13 div.sk-label input.sk-toggleable__control:checked~label.sk-toggleable__label {background-color: #d4ebff;}#sk-container-id-13 input.sk-hidden--visually {border: 0;clip: rect(1px 1px 1px 1px);clip: rect(1px, 1px, 1px, 1px);height: 1px;margin: -1px;overflow: hidden;padding: 0;position: absolute;width: 1px;}#sk-container-id-13 div.sk-estimator {font-family: monospace;background-color: #f0f8ff;border: 1px dotted black;border-radius: 0.25em;box-sizing: border-box;margin-bottom: 0.5em;}#sk-container-id-13 div.sk-estimator:hover {background-color: #d4ebff;}#sk-container-id-13 div.sk-parallel-item::after {content: \"\";width: 100%;border-bottom: 1px solid gray;flex-grow: 1;}#sk-container-id-13 div.sk-label:hover label.sk-toggleable__label {background-color: #d4ebff;}#sk-container-id-13 div.sk-serial::before {content: \"\";position: absolute;border-left: 1px solid gray;box-sizing: border-box;top: 0;bottom: 0;left: 50%;z-index: 0;}#sk-container-id-13 div.sk-serial {display: flex;flex-direction: column;align-items: center;background-color: white;padding-right: 0.2em;padding-left: 0.2em;position: relative;}#sk-container-id-13 div.sk-item {position: relative;z-index: 1;}#sk-container-id-13 div.sk-parallel {display: flex;align-items: stretch;justify-content: center;background-color: white;position: relative;}#sk-container-id-13 div.sk-item::before, #sk-container-id-13 div.sk-parallel-item::before {content: \"\";position: absolute;border-left: 1px solid gray;box-sizing: border-box;top: 0;bottom: 0;left: 50%;z-index: -1;}#sk-container-id-13 div.sk-parallel-item {display: flex;flex-direction: column;z-index: 1;position: relative;background-color: white;}#sk-container-id-13 div.sk-parallel-item:first-child::after {align-self: flex-end;width: 50%;}#sk-container-id-13 div.sk-parallel-item:last-child::after {align-self: flex-start;width: 50%;}#sk-container-id-13 div.sk-parallel-item:only-child::after {width: 0;}#sk-container-id-13 div.sk-dashed-wrapped {border: 1px dashed gray;margin: 0 0.4em 0.5em 0.4em;box-sizing: border-box;padding-bottom: 0.4em;background-color: white;}#sk-container-id-13 div.sk-label label {font-family: monospace;font-weight: bold;display: inline-block;line-height: 1.2em;}#sk-container-id-13 div.sk-label-container {text-align: center;}#sk-container-id-13 div.sk-container {/* jupyter's `normalize.less` sets `[hidden] { display: none; }` but bootstrap.min.css set `[hidden] { display: none !important; }` so we also need the `!important` here to be able to override the default hidden behavior on the sphinx rendered scikit-learn.org. See: https://github.com/scikit-learn/scikit-learn/issues/21755 */display: inline-block !important;position: relative;}#sk-container-id-13 div.sk-text-repr-fallback {display: none;}</style><div id=\"sk-container-id-13\" class=\"sk-top-container\"><div class=\"sk-text-repr-fallback\"><pre>Pipeline(steps=[(&#x27;tfidfvectorizer&#x27;, TfidfVectorizer(stop_words=&#x27;english&#x27;)),\n",
       "                (&#x27;multinomialnb&#x27;, MultinomialNB())])</pre><b>In a Jupyter environment, please rerun this cell to show the HTML representation or trust the notebook. <br />On GitHub, the HTML representation is unable to render, please try loading this page with nbviewer.org.</b></div><div class=\"sk-container\" hidden><div class=\"sk-item sk-dashed-wrapped\"><div class=\"sk-label-container\"><div class=\"sk-label sk-toggleable\"><input class=\"sk-toggleable__control sk-hidden--visually\" id=\"sk-estimator-id-29\" type=\"checkbox\" ><label for=\"sk-estimator-id-29\" class=\"sk-toggleable__label sk-toggleable__label-arrow\">Pipeline</label><div class=\"sk-toggleable__content\"><pre>Pipeline(steps=[(&#x27;tfidfvectorizer&#x27;, TfidfVectorizer(stop_words=&#x27;english&#x27;)),\n",
       "                (&#x27;multinomialnb&#x27;, MultinomialNB())])</pre></div></div></div><div class=\"sk-serial\"><div class=\"sk-item\"><div class=\"sk-estimator sk-toggleable\"><input class=\"sk-toggleable__control sk-hidden--visually\" id=\"sk-estimator-id-30\" type=\"checkbox\" ><label for=\"sk-estimator-id-30\" class=\"sk-toggleable__label sk-toggleable__label-arrow\">TfidfVectorizer</label><div class=\"sk-toggleable__content\"><pre>TfidfVectorizer(stop_words=&#x27;english&#x27;)</pre></div></div></div><div class=\"sk-item\"><div class=\"sk-estimator sk-toggleable\"><input class=\"sk-toggleable__control sk-hidden--visually\" id=\"sk-estimator-id-31\" type=\"checkbox\" ><label for=\"sk-estimator-id-31\" class=\"sk-toggleable__label sk-toggleable__label-arrow\">MultinomialNB</label><div class=\"sk-toggleable__content\"><pre>MultinomialNB()</pre></div></div></div></div></div></div></div>"
      ],
      "text/plain": [
       "Pipeline(steps=[('tfidfvectorizer', TfidfVectorizer(stop_words='english')),\n",
       "                ('multinomialnb', MultinomialNB())])"
      ]
     },
     "execution_count": 99,
     "metadata": {},
     "output_type": "execute_result"
    },
    {
     "name": "stdout",
     "output_type": "stream",
     "text": [
      "Accuracy: 0.9182665831101996\n",
      "Hamming Loss:  0.08173341688980042\n"
     ]
    }
   ],
   "source": [
    "import numpy as np\n",
    "from sklearn.naive_bayes import MultinomialNB\n",
    "from sklearn.metrics import accuracy_score,hamming_loss, recall_score, precision_score, f1_score\n",
    "from sklearn.pipeline import make_pipeline\n",
    "\n",
    "# Initialize classifier\n",
    "nb_clf = MultinomialNB()\n",
    "\n",
    "# Build the pipeline\n",
    "nb_pipeline = make_pipeline(vectorizer, nb_clf)\n",
    "\n",
    "# Fit the model to training data\n",
    "nb_pipeline.fit(X_train, Y_train)\n",
    "\n",
    "# Predict on testing data\n",
    "nb_y_pred = nb_pipeline.predict(X_test)\n",
    "\n",
    "# Calculate accuracy score\n",
    "accuracy = accuracy_score(Y_test, nb_y_pred)\n",
    "print(\"Accuracy:\", accuracy)\n",
    "hamming_loss = hamming_loss(Y_test, nb_y_pred)\n",
    "print(\"Hamming Loss: \",hamming_loss)"
   ]
  },
  {
   "attachments": {},
   "cell_type": "markdown",
   "metadata": {},
   "source": [
    "**SVM Classifier**"
   ]
  },
  {
   "cell_type": "code",
   "execution_count": 98,
   "metadata": {},
   "outputs": [
    {
     "data": {
      "text/html": [
       "<style>#sk-container-id-12 {color: black;background-color: white;}#sk-container-id-12 pre{padding: 0;}#sk-container-id-12 div.sk-toggleable {background-color: white;}#sk-container-id-12 label.sk-toggleable__label {cursor: pointer;display: block;width: 100%;margin-bottom: 0;padding: 0.3em;box-sizing: border-box;text-align: center;}#sk-container-id-12 label.sk-toggleable__label-arrow:before {content: \"▸\";float: left;margin-right: 0.25em;color: #696969;}#sk-container-id-12 label.sk-toggleable__label-arrow:hover:before {color: black;}#sk-container-id-12 div.sk-estimator:hover label.sk-toggleable__label-arrow:before {color: black;}#sk-container-id-12 div.sk-toggleable__content {max-height: 0;max-width: 0;overflow: hidden;text-align: left;background-color: #f0f8ff;}#sk-container-id-12 div.sk-toggleable__content pre {margin: 0.2em;color: black;border-radius: 0.25em;background-color: #f0f8ff;}#sk-container-id-12 input.sk-toggleable__control:checked~div.sk-toggleable__content {max-height: 200px;max-width: 100%;overflow: auto;}#sk-container-id-12 input.sk-toggleable__control:checked~label.sk-toggleable__label-arrow:before {content: \"▾\";}#sk-container-id-12 div.sk-estimator input.sk-toggleable__control:checked~label.sk-toggleable__label {background-color: #d4ebff;}#sk-container-id-12 div.sk-label input.sk-toggleable__control:checked~label.sk-toggleable__label {background-color: #d4ebff;}#sk-container-id-12 input.sk-hidden--visually {border: 0;clip: rect(1px 1px 1px 1px);clip: rect(1px, 1px, 1px, 1px);height: 1px;margin: -1px;overflow: hidden;padding: 0;position: absolute;width: 1px;}#sk-container-id-12 div.sk-estimator {font-family: monospace;background-color: #f0f8ff;border: 1px dotted black;border-radius: 0.25em;box-sizing: border-box;margin-bottom: 0.5em;}#sk-container-id-12 div.sk-estimator:hover {background-color: #d4ebff;}#sk-container-id-12 div.sk-parallel-item::after {content: \"\";width: 100%;border-bottom: 1px solid gray;flex-grow: 1;}#sk-container-id-12 div.sk-label:hover label.sk-toggleable__label {background-color: #d4ebff;}#sk-container-id-12 div.sk-serial::before {content: \"\";position: absolute;border-left: 1px solid gray;box-sizing: border-box;top: 0;bottom: 0;left: 50%;z-index: 0;}#sk-container-id-12 div.sk-serial {display: flex;flex-direction: column;align-items: center;background-color: white;padding-right: 0.2em;padding-left: 0.2em;position: relative;}#sk-container-id-12 div.sk-item {position: relative;z-index: 1;}#sk-container-id-12 div.sk-parallel {display: flex;align-items: stretch;justify-content: center;background-color: white;position: relative;}#sk-container-id-12 div.sk-item::before, #sk-container-id-12 div.sk-parallel-item::before {content: \"\";position: absolute;border-left: 1px solid gray;box-sizing: border-box;top: 0;bottom: 0;left: 50%;z-index: -1;}#sk-container-id-12 div.sk-parallel-item {display: flex;flex-direction: column;z-index: 1;position: relative;background-color: white;}#sk-container-id-12 div.sk-parallel-item:first-child::after {align-self: flex-end;width: 50%;}#sk-container-id-12 div.sk-parallel-item:last-child::after {align-self: flex-start;width: 50%;}#sk-container-id-12 div.sk-parallel-item:only-child::after {width: 0;}#sk-container-id-12 div.sk-dashed-wrapped {border: 1px dashed gray;margin: 0 0.4em 0.5em 0.4em;box-sizing: border-box;padding-bottom: 0.4em;background-color: white;}#sk-container-id-12 div.sk-label label {font-family: monospace;font-weight: bold;display: inline-block;line-height: 1.2em;}#sk-container-id-12 div.sk-label-container {text-align: center;}#sk-container-id-12 div.sk-container {/* jupyter's `normalize.less` sets `[hidden] { display: none; }` but bootstrap.min.css set `[hidden] { display: none !important; }` so we also need the `!important` here to be able to override the default hidden behavior on the sphinx rendered scikit-learn.org. See: https://github.com/scikit-learn/scikit-learn/issues/21755 */display: inline-block !important;position: relative;}#sk-container-id-12 div.sk-text-repr-fallback {display: none;}</style><div id=\"sk-container-id-12\" class=\"sk-top-container\"><div class=\"sk-text-repr-fallback\"><pre>Pipeline(steps=[(&#x27;tfidf&#x27;, TfidfVectorizer(stop_words=&#x27;english&#x27;)),\n",
       "                (&#x27;svd&#x27;, TruncatedSVD(n_components=300)),\n",
       "                (&#x27;svm&#x27;, SVC(kernel=&#x27;linear&#x27;))])</pre><b>In a Jupyter environment, please rerun this cell to show the HTML representation or trust the notebook. <br />On GitHub, the HTML representation is unable to render, please try loading this page with nbviewer.org.</b></div><div class=\"sk-container\" hidden><div class=\"sk-item sk-dashed-wrapped\"><div class=\"sk-label-container\"><div class=\"sk-label sk-toggleable\"><input class=\"sk-toggleable__control sk-hidden--visually\" id=\"sk-estimator-id-25\" type=\"checkbox\" ><label for=\"sk-estimator-id-25\" class=\"sk-toggleable__label sk-toggleable__label-arrow\">Pipeline</label><div class=\"sk-toggleable__content\"><pre>Pipeline(steps=[(&#x27;tfidf&#x27;, TfidfVectorizer(stop_words=&#x27;english&#x27;)),\n",
       "                (&#x27;svd&#x27;, TruncatedSVD(n_components=300)),\n",
       "                (&#x27;svm&#x27;, SVC(kernel=&#x27;linear&#x27;))])</pre></div></div></div><div class=\"sk-serial\"><div class=\"sk-item\"><div class=\"sk-estimator sk-toggleable\"><input class=\"sk-toggleable__control sk-hidden--visually\" id=\"sk-estimator-id-26\" type=\"checkbox\" ><label for=\"sk-estimator-id-26\" class=\"sk-toggleable__label sk-toggleable__label-arrow\">TfidfVectorizer</label><div class=\"sk-toggleable__content\"><pre>TfidfVectorizer(stop_words=&#x27;english&#x27;)</pre></div></div></div><div class=\"sk-item\"><div class=\"sk-estimator sk-toggleable\"><input class=\"sk-toggleable__control sk-hidden--visually\" id=\"sk-estimator-id-27\" type=\"checkbox\" ><label for=\"sk-estimator-id-27\" class=\"sk-toggleable__label sk-toggleable__label-arrow\">TruncatedSVD</label><div class=\"sk-toggleable__content\"><pre>TruncatedSVD(n_components=300)</pre></div></div></div><div class=\"sk-item\"><div class=\"sk-estimator sk-toggleable\"><input class=\"sk-toggleable__control sk-hidden--visually\" id=\"sk-estimator-id-28\" type=\"checkbox\" ><label for=\"sk-estimator-id-28\" class=\"sk-toggleable__label sk-toggleable__label-arrow\">SVC</label><div class=\"sk-toggleable__content\"><pre>SVC(kernel=&#x27;linear&#x27;)</pre></div></div></div></div></div></div></div>"
      ],
      "text/plain": [
       "Pipeline(steps=[('tfidf', TfidfVectorizer(stop_words='english')),\n",
       "                ('svd', TruncatedSVD(n_components=300)),\n",
       "                ('svm', SVC(kernel='linear'))])"
      ]
     },
     "execution_count": 98,
     "metadata": {},
     "output_type": "execute_result"
    },
    {
     "name": "stdout",
     "output_type": "stream",
     "text": [
      "Accuracy: 0.9417193642112459\n"
     ]
    }
   ],
   "source": [
    "from sklearn.decomposition import TruncatedSVD\n",
    "from sklearn.feature_extraction.text import TfidfVectorizer\n",
    "from sklearn.svm import SVC\n",
    "from sklearn.pipeline import Pipeline\n",
    "\n",
    "# Define the pipeline\n",
    "svm_pipeline = Pipeline([\n",
    "    ('tfidf', vectorizer),\n",
    "    ('svd', TruncatedSVD(n_components=300)),\n",
    "    ('svm', SVC(kernel='linear'))\n",
    "])\n",
    "\n",
    "# Fit the pipeline to the training data\n",
    "svm_pipeline.fit(X_train, Y_train)\n",
    "\n",
    "# Evaluate the pipeline on the test data\n",
    "svm_y_pred = svm_pipeline.predict(X_test)\n",
    "accuracy = accuracy_score(Y_test, svm_y_pred)\n",
    "print(\"Accuracy:\", accuracy)\n",
    "# hamming_loss = hamming_loss(Y_test, y_pred)\n",
    "# print(\"Hamming Loss: \",hamming_loss)"
   ]
  },
  {
   "attachments": {},
   "cell_type": "markdown",
   "metadata": {},
   "source": [
    "**Decision Tree Classifier**"
   ]
  },
  {
   "cell_type": "code",
   "execution_count": 93,
   "metadata": {},
   "outputs": [
    {
     "data": {
      "text/html": [
       "<style>#sk-container-id-10 {color: black;background-color: white;}#sk-container-id-10 pre{padding: 0;}#sk-container-id-10 div.sk-toggleable {background-color: white;}#sk-container-id-10 label.sk-toggleable__label {cursor: pointer;display: block;width: 100%;margin-bottom: 0;padding: 0.3em;box-sizing: border-box;text-align: center;}#sk-container-id-10 label.sk-toggleable__label-arrow:before {content: \"▸\";float: left;margin-right: 0.25em;color: #696969;}#sk-container-id-10 label.sk-toggleable__label-arrow:hover:before {color: black;}#sk-container-id-10 div.sk-estimator:hover label.sk-toggleable__label-arrow:before {color: black;}#sk-container-id-10 div.sk-toggleable__content {max-height: 0;max-width: 0;overflow: hidden;text-align: left;background-color: #f0f8ff;}#sk-container-id-10 div.sk-toggleable__content pre {margin: 0.2em;color: black;border-radius: 0.25em;background-color: #f0f8ff;}#sk-container-id-10 input.sk-toggleable__control:checked~div.sk-toggleable__content {max-height: 200px;max-width: 100%;overflow: auto;}#sk-container-id-10 input.sk-toggleable__control:checked~label.sk-toggleable__label-arrow:before {content: \"▾\";}#sk-container-id-10 div.sk-estimator input.sk-toggleable__control:checked~label.sk-toggleable__label {background-color: #d4ebff;}#sk-container-id-10 div.sk-label input.sk-toggleable__control:checked~label.sk-toggleable__label {background-color: #d4ebff;}#sk-container-id-10 input.sk-hidden--visually {border: 0;clip: rect(1px 1px 1px 1px);clip: rect(1px, 1px, 1px, 1px);height: 1px;margin: -1px;overflow: hidden;padding: 0;position: absolute;width: 1px;}#sk-container-id-10 div.sk-estimator {font-family: monospace;background-color: #f0f8ff;border: 1px dotted black;border-radius: 0.25em;box-sizing: border-box;margin-bottom: 0.5em;}#sk-container-id-10 div.sk-estimator:hover {background-color: #d4ebff;}#sk-container-id-10 div.sk-parallel-item::after {content: \"\";width: 100%;border-bottom: 1px solid gray;flex-grow: 1;}#sk-container-id-10 div.sk-label:hover label.sk-toggleable__label {background-color: #d4ebff;}#sk-container-id-10 div.sk-serial::before {content: \"\";position: absolute;border-left: 1px solid gray;box-sizing: border-box;top: 0;bottom: 0;left: 50%;z-index: 0;}#sk-container-id-10 div.sk-serial {display: flex;flex-direction: column;align-items: center;background-color: white;padding-right: 0.2em;padding-left: 0.2em;position: relative;}#sk-container-id-10 div.sk-item {position: relative;z-index: 1;}#sk-container-id-10 div.sk-parallel {display: flex;align-items: stretch;justify-content: center;background-color: white;position: relative;}#sk-container-id-10 div.sk-item::before, #sk-container-id-10 div.sk-parallel-item::before {content: \"\";position: absolute;border-left: 1px solid gray;box-sizing: border-box;top: 0;bottom: 0;left: 50%;z-index: -1;}#sk-container-id-10 div.sk-parallel-item {display: flex;flex-direction: column;z-index: 1;position: relative;background-color: white;}#sk-container-id-10 div.sk-parallel-item:first-child::after {align-self: flex-end;width: 50%;}#sk-container-id-10 div.sk-parallel-item:last-child::after {align-self: flex-start;width: 50%;}#sk-container-id-10 div.sk-parallel-item:only-child::after {width: 0;}#sk-container-id-10 div.sk-dashed-wrapped {border: 1px dashed gray;margin: 0 0.4em 0.5em 0.4em;box-sizing: border-box;padding-bottom: 0.4em;background-color: white;}#sk-container-id-10 div.sk-label label {font-family: monospace;font-weight: bold;display: inline-block;line-height: 1.2em;}#sk-container-id-10 div.sk-label-container {text-align: center;}#sk-container-id-10 div.sk-container {/* jupyter's `normalize.less` sets `[hidden] { display: none; }` but bootstrap.min.css set `[hidden] { display: none !important; }` so we also need the `!important` here to be able to override the default hidden behavior on the sphinx rendered scikit-learn.org. See: https://github.com/scikit-learn/scikit-learn/issues/21755 */display: inline-block !important;position: relative;}#sk-container-id-10 div.sk-text-repr-fallback {display: none;}</style><div id=\"sk-container-id-10\" class=\"sk-top-container\"><div class=\"sk-text-repr-fallback\"><pre>Pipeline(steps=[(&#x27;vect&#x27;, TfidfVectorizer(stop_words=&#x27;english&#x27;)),\n",
       "                (&#x27;clf&#x27;, RandomForestClassifier())])</pre><b>In a Jupyter environment, please rerun this cell to show the HTML representation or trust the notebook. <br />On GitHub, the HTML representation is unable to render, please try loading this page with nbviewer.org.</b></div><div class=\"sk-container\" hidden><div class=\"sk-item sk-dashed-wrapped\"><div class=\"sk-label-container\"><div class=\"sk-label sk-toggleable\"><input class=\"sk-toggleable__control sk-hidden--visually\" id=\"sk-estimator-id-19\" type=\"checkbox\" ><label for=\"sk-estimator-id-19\" class=\"sk-toggleable__label sk-toggleable__label-arrow\">Pipeline</label><div class=\"sk-toggleable__content\"><pre>Pipeline(steps=[(&#x27;vect&#x27;, TfidfVectorizer(stop_words=&#x27;english&#x27;)),\n",
       "                (&#x27;clf&#x27;, RandomForestClassifier())])</pre></div></div></div><div class=\"sk-serial\"><div class=\"sk-item\"><div class=\"sk-estimator sk-toggleable\"><input class=\"sk-toggleable__control sk-hidden--visually\" id=\"sk-estimator-id-20\" type=\"checkbox\" ><label for=\"sk-estimator-id-20\" class=\"sk-toggleable__label sk-toggleable__label-arrow\">TfidfVectorizer</label><div class=\"sk-toggleable__content\"><pre>TfidfVectorizer(stop_words=&#x27;english&#x27;)</pre></div></div></div><div class=\"sk-item\"><div class=\"sk-estimator sk-toggleable\"><input class=\"sk-toggleable__control sk-hidden--visually\" id=\"sk-estimator-id-21\" type=\"checkbox\" ><label for=\"sk-estimator-id-21\" class=\"sk-toggleable__label sk-toggleable__label-arrow\">RandomForestClassifier</label><div class=\"sk-toggleable__content\"><pre>RandomForestClassifier()</pre></div></div></div></div></div></div></div>"
      ],
      "text/plain": [
       "Pipeline(steps=[('vect', TfidfVectorizer(stop_words='english')),\n",
       "                ('clf', RandomForestClassifier())])"
      ]
     },
     "execution_count": 93,
     "metadata": {},
     "output_type": "execute_result"
    },
    {
     "name": "stdout",
     "output_type": "stream",
     "text": [
      "Random Forest accuracy: 0.9548035473518297\n"
     ]
    }
   ],
   "source": [
    "from sklearn.feature_extraction.text import TfidfVectorizer\n",
    "from sklearn.ensemble import RandomForestClassifier\n",
    "\n",
    "\n",
    "rf_clf = RandomForestClassifier()\n",
    "\n",
    "\n",
    "# Define pipeline for Random Forest\n",
    "rf_pipeline = Pipeline([\n",
    "    ('vect', vectorizer),\n",
    "    ('clf', rf_clf)\n",
    "])\n",
    "\n",
    "# Train and fit the models\n",
    "rf_pipeline.fit(X_train, Y_train)\n",
    "\n",
    "# Predict using the models\n",
    "rf_prediction = rf_pipeline.predict(X_test)\n",
    "\n",
    "# Evaluate the models\n",
    "rf_accuracy = rf_pipeline.score(X_test, Y_test)\n",
    "\n",
    "print(\"Random Forest accuracy:\", rf_accuracy)\n"
   ]
  },
  {
   "cell_type": "code",
   "execution_count": 108,
   "metadata": {},
   "outputs": [
    {
     "name": "stdout",
     "output_type": "stream",
     "text": [
      "Naive Bayes Accuracy:  0.9182665831101996\n",
      "Naive Bayes Recall:  0.22036969916636462\n",
      "Naive Bayes Precision:  0.9983579638752053\n",
      "Naive Bayes F1 Score:  0.3610451306413301\n"
     ]
    }
   ],
   "source": [
    "nb_accuracy = accuracy_score(Y_test,nb_y_pred)\n",
    "nb_recall = recall_score(Y_test,nb_y_pred)\n",
    "nb_precision = precision_score(Y_test,nb_y_pred)\n",
    "nb_f1 = f1_score(Y_test,nb_y_pred)\n",
    "print(\"Naive Bayes Accuracy: \",nb_accuracy)\n",
    "print(\"Naive Bayes Recall: \",nb_recall)\n",
    "print(\"Naive Bayes Precision: \",nb_precision)\n",
    "print(\"Naive Bayes F1 Score: \",nb_f1)"
   ]
  },
  {
   "cell_type": "code",
   "execution_count": 106,
   "metadata": {},
   "outputs": [
    {
     "name": "stdout",
     "output_type": "stream",
     "text": [
      "Random Forest Accuracy:  0.9548035473518297\n",
      "Random Forest Recall:  0.6406306632837985\n",
      "Random Forest Precision:  0.8990335707019329\n",
      "Random Forest F1 Score:  0.7481481481481482\n"
     ]
    }
   ],
   "source": [
    "rf_accuracy = accuracy_score(Y_test,rf_prediction)\n",
    "rf_recall = recall_score(Y_test,rf_prediction)\n",
    "rf_precision = precision_score(Y_test,rf_prediction)\n",
    "rf_f1 = f1_score(Y_test,rf_prediction)\n",
    "print(\"Random Forest Accuracy: \",rf_accuracy)\n",
    "print(\"Random Forest Recall: \",rf_recall)\n",
    "print(\"Random Forest Precision: \",rf_precision)\n",
    "print(\"Random Forest F1 Score: \",rf_f1)"
   ]
  },
  {
   "cell_type": "code",
   "execution_count": 105,
   "metadata": {},
   "outputs": [
    {
     "name": "stdout",
     "output_type": "stream",
     "text": [
      "SVM Accuracy:  0.9417193642112459\n",
      "SVM Recall:  0.4797027908662559\n",
      "SVM Precision:  0.9304042179261863\n",
      "SVM F1 Score:  0.6330264259237116\n"
     ]
    }
   ],
   "source": [
    "svm_accuracy = accuracy_score(Y_test,svm_y_pred)\n",
    "svm_recall = recall_score(Y_test,svm_y_pred)\n",
    "svm_precision = precision_score(Y_test,svm_y_pred)\n",
    "svm_f1 = f1_score(Y_test,svm_y_pred)\n",
    "print(\"SVM Accuracy: \",svm_accuracy)\n",
    "print(\"SVM Recall: \",svm_recall)\n",
    "print(\"SVM Precision: \",svm_precision)\n",
    "print(\"SVM F1 Score: \",svm_f1)"
   ]
  },
  {
   "cell_type": "code",
   "execution_count": 100,
   "metadata": {},
   "outputs": [
    {
     "name": "stdout",
     "output_type": "stream",
     "text": [
      "Combined Accuracy:  0.9564936667995975\n",
      "Combined Recall:  0.6719826023921711\n",
      "Combined Precision:  0.8851754595368823\n",
      "Combined F1 Score:  0.7639847532708356\n"
     ]
    }
   ],
   "source": [
    "combine_pred = []\n",
    "# Y_test_list = list(Y_test.values)\n",
    "\n",
    "\n",
    "for i in range(len(X_test)):\n",
    "    pred_1 = svm_y_pred[i]\n",
    "    pred_2 = nb_y_pred[i]\n",
    "    pred_3 = rf_prediction[i]\n",
    "    if pred_1 == 1 or pred_2 == 1 or pred_3 == 1:\n",
    "        combine_pred.append(1)\n",
    "    else:\n",
    "        combine_pred.append(0)\n",
    "\n",
    "\n",
    "combined_accuracy = accuracy_score(Y_test,combine_pred)\n",
    "combined_recall = recall_score(Y_test,combine_pred)\n",
    "combined_precision = precision_score(Y_test,combine_pred)\n",
    "combined_f1 = f1_score(Y_test,combine_pred)\n",
    "print(\"Combined Accuracy: \",combined_accuracy)\n",
    "print(\"Combined Recall: \",combined_recall)\n",
    "print(\"Combined Precision: \",combined_precision)\n",
    "print(\"Combined F1 Score: \",combined_f1)"
   ]
  },
  {
   "cell_type": "code",
   "execution_count": 126,
   "metadata": {},
   "outputs": [
    {
     "data": {
      "text/plain": [
       "<BarContainer object of 3 artists>"
      ]
     },
     "execution_count": 126,
     "metadata": {},
     "output_type": "execute_result"
    },
    {
     "data": {
      "text/plain": [
       "Text(0.5, 0, 'Models')"
      ]
     },
     "execution_count": 126,
     "metadata": {},
     "output_type": "execute_result"
    },
    {
     "data": {
      "text/plain": [
       "Text(0, 0.5, 'Accuracy')"
      ]
     },
     "execution_count": 126,
     "metadata": {},
     "output_type": "execute_result"
    },
    {
     "data": {
      "text/plain": [
       "Text(0.5, 1.0, 'Accuracy of Three Models')"
      ]
     },
     "execution_count": 126,
     "metadata": {},
     "output_type": "execute_result"
    },
    {
     "data": {
      "image/png": "[encoded data removed]",
      "text/plain": [
       "<Figure size 640x480 with 1 Axes>"
      ]
     },
     "metadata": {},
     "output_type": "display_data"
    }
   ],
   "source": [
    "import matplotlib.pyplot as plt\n",
    "\n",
    "plt.bar([\"SVM Model\",\"Naive Bayes\",\"Random Forest\"], [svm_accuracy,nb_accuracy,rf_accuracy])\n",
    "\n",
    "# add axis labels and title\n",
    "plt.xlabel('Models')\n",
    "plt.ylabel('Accuracy')\n",
    "plt.title('Accuracy of Three Models')\n",
    "\n",
    "# display the plot\n",
    "plt.show()"
   ]
  },
  {
   "cell_type": "code",
   "execution_count": 129,
   "metadata": {},
   "outputs": [
    {
     "data": {
      "text/plain": [
       "Text(0.5, 0, 'Classifier')"
      ]
     },
     "execution_count": 129,
     "metadata": {},
     "output_type": "execute_result"
    },
    {
     "data": {
      "text/plain": [
       "Text(0, 0.5, 'Scores')"
      ]
     },
     "execution_count": 129,
     "metadata": {},
     "output_type": "execute_result"
    },
    {
     "data": {
      "text/plain": [
       "Text(0.5, 1.0, 'Comparison of classification metrics')"
      ]
     },
     "execution_count": 129,
     "metadata": {},
     "output_type": "execute_result"
    },
    {
     "data": {
      "text/plain": [
       "[<matplotlib.axis.XTick at 0x10c5be650>,\n",
       " <matplotlib.axis.XTick at 0x10c5a6f50>,\n",
       " <matplotlib.axis.XTick at 0x10c537cd0>]"
      ]
     },
     "execution_count": 129,
     "metadata": {},
     "output_type": "execute_result"
    },
    {
     "data": {
      "text/plain": [
       "[Text(0.25, 0, 'SVM'),\n",
       " Text(1.25, 0, 'Naive Bayes'),\n",
       " Text(2.25, 0, 'Random Forest')]"
      ]
     },
     "execution_count": 129,
     "metadata": {},
     "output_type": "execute_result"
    },
    {
     "data": {
      "text/plain": [
       "<matplotlib.legend.Legend at 0x10c571510>"
      ]
     },
     "execution_count": 129,
     "metadata": {},
     "output_type": "execute_result"
    },
    {
     "data": {
      "image/png": "[encoded data removed]",
      "text/plain": [
       "<Figure size 640x480 with 1 Axes>"
      ]
     },
     "metadata": {},
     "output_type": "display_data"
    }
   ],
   "source": [
    "f1_values = [svm_f1,nb_f1,rf_f1]\n",
    "recall_values = [svm_recall, nb_recall,rf_recall]\n",
    "precision_values = [svm_precision,nb_precision,rf_precision]\n",
    "\n",
    "# model names\n",
    "model_names = ['SVM Model', 'Naive Bayes', 'Random Forest']\n",
    "\n",
    "# Create a bar plot\n",
    "fig, ax = plt.subplots()\n",
    "index = [0, 1, 2]\n",
    "bar_width = 0.25\n",
    "opacity = 0.8\n",
    "\n",
    "rects1 = ax.bar(index, f1_values, bar_width,\n",
    "                alpha=opacity,\n",
    "                color='b',\n",
    "                label='F1 score')\n",
    "\n",
    "rects2 = ax.bar([i + bar_width for i in index], recall_values, bar_width,\n",
    "                alpha=opacity,\n",
    "                color='g',\n",
    "                label='Recall')\n",
    "\n",
    "rects3 = ax.bar([i + 2*bar_width for i in index], precision_values, bar_width,\n",
    "                alpha=opacity,\n",
    "                color='r',\n",
    "                label='Precision')\n",
    "\n",
    "# Add labels and legends\n",
    "ax.set_xlabel('Classifier')\n",
    "ax.set_ylabel('Scores')\n",
    "ax.set_title('Comparison of classification metrics')\n",
    "ax.set_xticks([i + bar_width for i in index])\n",
    "ax.set_xticklabels(['SVM', 'Naive Bayes', 'Random Forest'])\n",
    "ax.legend()\n",
    "\n",
    "plt.tight_layout()\n",
    "plt.show()\n"
   ]
  },
  {
   "attachments": {},
   "cell_type": "markdown",
   "metadata": {},
   "source": [
    "**Initilizing Tweepy API Object**"
   ]
  },
  {
   "attachments": {},
   "cell_type": "markdown",
   "metadata": {},
   "source": [
    "<font color=red><b>The below code needs Twitter Key to run<b></font>"
   ]
  },
  {
   "cell_type": "code",
   "execution_count": 19,
   "metadata": {},
   "outputs": [],
   "source": [
    "import tweepy\n",
    "import pandas as pd\n",
    "\n",
    "CONSUMER_KEY = \"<Insert Your Key Here>\"\n",
    "CONSUMER_SECRET = \"<Insert Your Key Here>\"\n",
    "OAUTH_TOKEN = \"<Insert Your Key Here>\"\n",
    "OAUTH_TOKEN_SECRET = \"<Insert Your Key Here>\"\n",
    "\n",
    "# Authenticate with the Twitter API\n",
    "auth = tweepy.OAuthHandler(CONSUMER_KEY, CONSUMER_SECRET)\n",
    "auth.set_access_token(OAUTH_TOKEN, OAUTH_TOKEN_SECRET)\n",
    "\n",
    "# Create the API object\n",
    "api = tweepy.API(auth)"
   ]
  },
  {
   "attachments": {},
   "cell_type": "markdown",
   "metadata": {},
   "source": [
    "**Define the username of the user whose tweets and comments you want to retrieve**"
   ]
  },
  {
   "cell_type": "markdown",
   "metadata": {},
   "source": [
    "<font color=red><b>The below code needs Twitter Key to run<b></font>"
   ]
  },
  {
   "cell_type": "code",
   "execution_count": 130,
   "metadata": {},
   "outputs": [],
   "source": [
    "username = 'thedemocrats'\n",
    "# Get the latest 100 tweets of the user\n",
    "tweets = api.user_timeline(screen_name=username, count=100, tweet_mode='extended')\n",
    "\n",
    "# Create a list to store the data\n",
    "data = []\n"
   ]
  },
  {
   "attachments": {},
   "cell_type": "markdown",
   "metadata": {},
   "source": [
    "**Building the Dataset of the Tweets extracted**"
   ]
  },
  {
   "cell_type": "markdown",
   "metadata": {},
   "source": [
    "<font color=red><b>The below code needs Twitter Key to run<b></font>"
   ]
  },
  {
   "attachments": {},
   "cell_type": "markdown",
   "metadata": {},
   "source": [
    "**Skip this step:**\n",
    "The code that retrieves data from the Twitter API and builds a dataframe can be skipped since we have already retrieved the tweets from Twitter and created a CSV file."
   ]
  },
  {
   "cell_type": "code",
   "execution_count": 131,
   "metadata": {},
   "outputs": [],
   "source": [
    "import time\n",
    "# For each tweet, get the top 1000 comments and store the data in the list\n",
    "for tweet in tweets:\n",
    "    try:\n",
    "        comments = api.search_tweets(q='to:'+username, since_id=tweet.id, count=1000, tweet_mode='extended')\n",
    "    except tweepy.TweepyException as e:\n",
    "        if \"Too Many Requests\" in str(e):\n",
    "            print(\"Rate limit exceeded. Waiting for 15 minutes.\")\n",
    "            time.sleep(15 * 60)  # Wait for 15 minutes\n",
    "            comments = api.search_tweets(q='to:'+username, since_id=tweet.id, count=1000, tweet_mode='extended')\n",
    "        else:\n",
    "            print(e)\n",
    "    for comment in comments:\n",
    "        if(comment.user.screen_name != username):\n",
    "            data.append({'tweet_id': comment.id, 'tweet': comment.full_text, 'user of the tweet': comment.user.screen_name})\n",
    "\n",
    "# Convert the list to a Pandas DataFrame\n",
    "df = pd.DataFrame(data)"
   ]
  },
  {
   "cell_type": "code",
   "execution_count": 132,
   "metadata": {},
   "outputs": [
    {
     "data": {
      "text/html": [
       "<div>\n",
       "<style scoped>\n",
       "    .dataframe tbody tr th:only-of-type {\n",
       "        vertical-align: middle;\n",
       "    }\n",
       "\n",
       "    .dataframe tbody tr th {\n",
       "        vertical-align: top;\n",
       "    }\n",
       "\n",
       "    .dataframe thead th {\n",
       "        text-align: right;\n",
       "    }\n",
       "</style>\n",
       "<table border=\"1\" class=\"dataframe\">\n",
       "  <thead>\n",
       "    <tr style=\"text-align: right;\">\n",
       "      <th></th>\n",
       "      <th>tweet_id</th>\n",
       "      <th>tweet</th>\n",
       "      <th>user of the tweet</th>\n",
       "    </tr>\n",
       "  </thead>\n",
       "  <tbody>\n",
       "    <tr>\n",
       "      <th>0</th>\n",
       "      <td>1654657179448758273</td>\n",
       "      <td>@TheDemocrats You’re a lier</td>\n",
       "      <td>BobDeGraff3</td>\n",
       "    </tr>\n",
       "    <tr>\n",
       "      <th>1</th>\n",
       "      <td>1654657072305422336</td>\n",
       "      <td>@TheDemocrats BS</td>\n",
       "      <td>William68291741</td>\n",
       "    </tr>\n",
       "    <tr>\n",
       "      <th>2</th>\n",
       "      <td>1654656813252616193</td>\n",
       "      <td>@TheDemocrats https://t.co/1h2MRp84g9</td>\n",
       "      <td>EtepMax</td>\n",
       "    </tr>\n",
       "    <tr>\n",
       "      <th>3</th>\n",
       "      <td>1654656782155886592</td>\n",
       "      <td>@TheDemocrats @JoeBiden https://t.co/CAqwCp6EMG</td>\n",
       "      <td>DanielKraemerIV</td>\n",
       "    </tr>\n",
       "    <tr>\n",
       "      <th>4</th>\n",
       "      <td>1654656513301176320</td>\n",
       "      <td>@TheDemocrats Lie. As usual from you.</td>\n",
       "      <td>1stPrinciples76</td>\n",
       "    </tr>\n",
       "    <tr>\n",
       "      <th>...</th>\n",
       "      <td>...</td>\n",
       "      <td>...</td>\n",
       "      <td>...</td>\n",
       "    </tr>\n",
       "    <tr>\n",
       "      <th>9095</th>\n",
       "      <td>1654648187448172545</td>\n",
       "      <td>@TheDemocrats Awesome. Show us the results now...</td>\n",
       "      <td>CRAlG0</td>\n",
       "    </tr>\n",
       "    <tr>\n",
       "      <th>9096</th>\n",
       "      <td>1654648076995289088</td>\n",
       "      <td>@TheDemocrats What is it. 9% goes to infrastru...</td>\n",
       "      <td>Devilsrain4</td>\n",
       "    </tr>\n",
       "    <tr>\n",
       "      <th>9097</th>\n",
       "      <td>1654648003980931077</td>\n",
       "      <td>@TheDemocrats You want to remember that those ...</td>\n",
       "      <td>BillBlickman</td>\n",
       "    </tr>\n",
       "    <tr>\n",
       "      <th>9098</th>\n",
       "      <td>1654647974574669828</td>\n",
       "      <td>@TheDemocrats Nope, don’t think so https://t.c...</td>\n",
       "      <td>mwatford5</td>\n",
       "    </tr>\n",
       "    <tr>\n",
       "      <th>9099</th>\n",
       "      <td>1654647961811582976</td>\n",
       "      <td>@TheDemocrats Sigh... not really.</td>\n",
       "      <td>JelliBadger</td>\n",
       "    </tr>\n",
       "  </tbody>\n",
       "</table>\n",
       "<p>9100 rows × 3 columns</p>\n",
       "</div>"
      ],
      "text/plain": [
       "                 tweet_id                                              tweet  \\\n",
       "0     1654657179448758273                        @TheDemocrats You’re a lier   \n",
       "1     1654657072305422336                                   @TheDemocrats BS   \n",
       "2     1654656813252616193              @TheDemocrats https://t.co/1h2MRp84g9   \n",
       "3     1654656782155886592    @TheDemocrats @JoeBiden https://t.co/CAqwCp6EMG   \n",
       "4     1654656513301176320              @TheDemocrats Lie. As usual from you.   \n",
       "...                   ...                                                ...   \n",
       "9095  1654648187448172545  @TheDemocrats Awesome. Show us the results now...   \n",
       "9096  1654648076995289088  @TheDemocrats What is it. 9% goes to infrastru...   \n",
       "9097  1654648003980931077  @TheDemocrats You want to remember that those ...   \n",
       "9098  1654647974574669828  @TheDemocrats Nope, don’t think so https://t.c...   \n",
       "9099  1654647961811582976                  @TheDemocrats Sigh... not really.   \n",
       "\n",
       "     user of the tweet  \n",
       "0          BobDeGraff3  \n",
       "1      William68291741  \n",
       "2              EtepMax  \n",
       "3      DanielKraemerIV  \n",
       "4      1stPrinciples76  \n",
       "...                ...  \n",
       "9095            CRAlG0  \n",
       "9096       Devilsrain4  \n",
       "9097      BillBlickman  \n",
       "9098         mwatford5  \n",
       "9099       JelliBadger  \n",
       "\n",
       "[9100 rows x 3 columns]"
      ]
     },
     "execution_count": 132,
     "metadata": {},
     "output_type": "execute_result"
    }
   ],
   "source": [
    "df"
   ]
  },
  {
   "attachments": {},
   "cell_type": "markdown",
   "metadata": {},
   "source": [
    "Load the dataframe using CSV file. "
   ]
  },
  {
   "cell_type": "code",
   "execution_count": 110,
   "metadata": {},
   "outputs": [
    {
     "data": {
      "text/html": [
       "<div>\n",
       "<style scoped>\n",
       "    .dataframe tbody tr th:only-of-type {\n",
       "        vertical-align: middle;\n",
       "    }\n",
       "\n",
       "    .dataframe tbody tr th {\n",
       "        vertical-align: top;\n",
       "    }\n",
       "\n",
       "    .dataframe thead th {\n",
       "        text-align: right;\n",
       "    }\n",
       "</style>\n",
       "<table border=\"1\" class=\"dataframe\">\n",
       "  <thead>\n",
       "    <tr style=\"text-align: right;\">\n",
       "      <th></th>\n",
       "      <th>tweet_id</th>\n",
       "      <th>tweet</th>\n",
       "      <th>user of the tweet</th>\n",
       "    </tr>\n",
       "  </thead>\n",
       "  <tbody>\n",
       "    <tr>\n",
       "      <th>0</th>\n",
       "      <td>1654250127173775361</td>\n",
       "      <td>@TheDemocrats Remember that the @DNC fuels div...</td>\n",
       "      <td>RealTemanson</td>\n",
       "    </tr>\n",
       "    <tr>\n",
       "      <th>1</th>\n",
       "      <td>1654250115471908864</td>\n",
       "      <td>@TheDemocrats Ã°ÂÂ¤Â¡Ã°ÂÂ¤Â¡ https://t.co/vk...</td>\n",
       "      <td>DV652</td>\n",
       "    </tr>\n",
       "    <tr>\n",
       "      <th>2</th>\n",
       "      <td>1654250112816668675</td>\n",
       "      <td>@TheDemocrats https://t.co/kFgwj7VPLo</td>\n",
       "      <td>YourFrickenJob</td>\n",
       "    </tr>\n",
       "    <tr>\n",
       "      <th>3</th>\n",
       "      <td>1654249310245244929</td>\n",
       "      <td>@TheDemocrats This is a lie.</td>\n",
       "      <td>broncos19801</td>\n",
       "    </tr>\n",
       "    <tr>\n",
       "      <th>4</th>\n",
       "      <td>1654249258571137024</td>\n",
       "      <td>@TheDemocrats https://t.co/1YnYE3zK3H</td>\n",
       "      <td>BroomallBr42259</td>\n",
       "    </tr>\n",
       "    <tr>\n",
       "      <th>...</th>\n",
       "      <td>...</td>\n",
       "      <td>...</td>\n",
       "      <td>...</td>\n",
       "    </tr>\n",
       "    <tr>\n",
       "      <th>78</th>\n",
       "      <td>1654247225143226368</td>\n",
       "      <td>@TheDemocrats Ã°ÂÂ¤Â£Ã°ÂÂÂÃ°ÂÂ¤Â£Ã°ÂÂÂ...</td>\n",
       "      <td>soniclore</td>\n",
       "    </tr>\n",
       "    <tr>\n",
       "      <th>79</th>\n",
       "      <td>1654247144570617856</td>\n",
       "      <td>@TheDemocrats Uh, now we will just have to wai...</td>\n",
       "      <td>FrankBa99193526</td>\n",
       "    </tr>\n",
       "    <tr>\n",
       "      <th>80</th>\n",
       "      <td>1654249358760591361</td>\n",
       "      <td>@TheDemocrats A complete disaster.</td>\n",
       "      <td>sco19663538</td>\n",
       "    </tr>\n",
       "    <tr>\n",
       "      <th>81</th>\n",
       "      <td>1654250160120033283</td>\n",
       "      <td>@TheDemocrats https://t.co/ISaNqjwcVQ</td>\n",
       "      <td>Bill27992994</td>\n",
       "    </tr>\n",
       "    <tr>\n",
       "      <th>82</th>\n",
       "      <td>1654249406575640576</td>\n",
       "      <td>@TheDemocrats Blind...like all of his followers</td>\n",
       "      <td>kcChris39</td>\n",
       "    </tr>\n",
       "  </tbody>\n",
       "</table>\n",
       "<p>83 rows × 3 columns</p>\n",
       "</div>"
      ],
      "text/plain": [
       "               tweet_id                                              tweet  \\\n",
       "0   1654250127173775361  @TheDemocrats Remember that the @DNC fuels div...   \n",
       "1   1654250115471908864  @TheDemocrats Ã°ÂÂ¤Â¡Ã°ÂÂ¤Â¡ https://t.co/vk...   \n",
       "2   1654250112816668675              @TheDemocrats https://t.co/kFgwj7VPLo   \n",
       "3   1654249310245244929                       @TheDemocrats This is a lie.   \n",
       "4   1654249258571137024              @TheDemocrats https://t.co/1YnYE3zK3H   \n",
       "..                  ...                                                ...   \n",
       "78  1654247225143226368  @TheDemocrats Ã°ÂÂ¤Â£Ã°ÂÂÂÃ°ÂÂ¤Â£Ã°ÂÂÂ...   \n",
       "79  1654247144570617856  @TheDemocrats Uh, now we will just have to wai...   \n",
       "80  1654249358760591361                 @TheDemocrats A complete disaster.   \n",
       "81  1654250160120033283              @TheDemocrats https://t.co/ISaNqjwcVQ   \n",
       "82  1654249406575640576    @TheDemocrats Blind...like all of his followers   \n",
       "\n",
       "   user of the tweet  \n",
       "0       RealTemanson  \n",
       "1              DV652  \n",
       "2     YourFrickenJob  \n",
       "3       broncos19801  \n",
       "4    BroomallBr42259  \n",
       "..               ...  \n",
       "78         soniclore  \n",
       "79   FrankBa99193526  \n",
       "80       sco19663538  \n",
       "81      Bill27992994  \n",
       "82         kcChris39  \n",
       "\n",
       "[83 rows x 3 columns]"
      ]
     },
     "execution_count": 110,
     "metadata": {},
     "output_type": "execute_result"
    }
   ],
   "source": [
    "df = pd.read_csv(\"./Dataset/democrats_twitter.csv\", encoding = DATASET_ENCODING)\n",
    "df"
   ]
  },
  {
   "attachments": {},
   "cell_type": "markdown",
   "metadata": {},
   "source": [
    "**Running the prediction across all 3 models**"
   ]
  },
  {
   "cell_type": "code",
   "execution_count": 133,
   "metadata": {},
   "outputs": [],
   "source": [
    "inp_data = df[\"tweet\"]\n",
    "pred_1 = [1 if svm_pipeline.predict([i]) == [1] else 0 for i in inp_data]\n",
    "pred_2 = [1 if rf_pipeline.predict([i]) == [1] else 0 for i in inp_data]\n",
    "pred_3 = [1 if nb_pipeline.predict([i]) == [1] else 0 for i in inp_data]\n",
    "\n",
    "\n",
    "n = len(pred_1)\n",
    "combine_pred = []\n",
    "for i in range(n):\n",
    "    if pred_1[i] == 1 or pred_2[i] == 1 or pred_3[i] == 1:\n",
    "        combine_pred.append(1)\n",
    "    else:\n",
    "        combine_pred.append(0)\n"
   ]
  },
  {
   "attachments": {},
   "cell_type": "markdown",
   "metadata": {},
   "source": [
    "**Adding the prediction column to the dataframe**"
   ]
  },
  {
   "cell_type": "code",
   "execution_count": 134,
   "metadata": {},
   "outputs": [
    {
     "data": {
      "text/html": [
       "<div>\n",
       "<style scoped>\n",
       "    .dataframe tbody tr th:only-of-type {\n",
       "        vertical-align: middle;\n",
       "    }\n",
       "\n",
       "    .dataframe tbody tr th {\n",
       "        vertical-align: top;\n",
       "    }\n",
       "\n",
       "    .dataframe thead th {\n",
       "        text-align: right;\n",
       "    }\n",
       "</style>\n",
       "<table border=\"1\" class=\"dataframe\">\n",
       "  <thead>\n",
       "    <tr style=\"text-align: right;\">\n",
       "      <th></th>\n",
       "      <th>tweet_id</th>\n",
       "      <th>tweet</th>\n",
       "      <th>user of the tweet</th>\n",
       "      <th>Prediction</th>\n",
       "    </tr>\n",
       "  </thead>\n",
       "  <tbody>\n",
       "    <tr>\n",
       "      <th>0</th>\n",
       "      <td>1654657179448758273</td>\n",
       "      <td>@TheDemocrats You’re a lier</td>\n",
       "      <td>BobDeGraff3</td>\n",
       "      <td>1</td>\n",
       "    </tr>\n",
       "    <tr>\n",
       "      <th>1</th>\n",
       "      <td>1654657072305422336</td>\n",
       "      <td>@TheDemocrats BS</td>\n",
       "      <td>William68291741</td>\n",
       "      <td>0</td>\n",
       "    </tr>\n",
       "    <tr>\n",
       "      <th>2</th>\n",
       "      <td>1654656813252616193</td>\n",
       "      <td>@TheDemocrats https://t.co/1h2MRp84g9</td>\n",
       "      <td>EtepMax</td>\n",
       "      <td>0</td>\n",
       "    </tr>\n",
       "    <tr>\n",
       "      <th>3</th>\n",
       "      <td>1654656782155886592</td>\n",
       "      <td>@TheDemocrats @JoeBiden https://t.co/CAqwCp6EMG</td>\n",
       "      <td>DanielKraemerIV</td>\n",
       "      <td>0</td>\n",
       "    </tr>\n",
       "    <tr>\n",
       "      <th>4</th>\n",
       "      <td>1654656513301176320</td>\n",
       "      <td>@TheDemocrats Lie. As usual from you.</td>\n",
       "      <td>1stPrinciples76</td>\n",
       "      <td>0</td>\n",
       "    </tr>\n",
       "    <tr>\n",
       "      <th>...</th>\n",
       "      <td>...</td>\n",
       "      <td>...</td>\n",
       "      <td>...</td>\n",
       "      <td>...</td>\n",
       "    </tr>\n",
       "    <tr>\n",
       "      <th>9095</th>\n",
       "      <td>1654648187448172545</td>\n",
       "      <td>@TheDemocrats Awesome. Show us the results now...</td>\n",
       "      <td>CRAlG0</td>\n",
       "      <td>0</td>\n",
       "    </tr>\n",
       "    <tr>\n",
       "      <th>9096</th>\n",
       "      <td>1654648076995289088</td>\n",
       "      <td>@TheDemocrats What is it. 9% goes to infrastru...</td>\n",
       "      <td>Devilsrain4</td>\n",
       "      <td>0</td>\n",
       "    </tr>\n",
       "    <tr>\n",
       "      <th>9097</th>\n",
       "      <td>1654648003980931077</td>\n",
       "      <td>@TheDemocrats You want to remember that those ...</td>\n",
       "      <td>BillBlickman</td>\n",
       "      <td>0</td>\n",
       "    </tr>\n",
       "    <tr>\n",
       "      <th>9098</th>\n",
       "      <td>1654647974574669828</td>\n",
       "      <td>@TheDemocrats Nope, don’t think so https://t.c...</td>\n",
       "      <td>mwatford5</td>\n",
       "      <td>0</td>\n",
       "    </tr>\n",
       "    <tr>\n",
       "      <th>9099</th>\n",
       "      <td>1654647961811582976</td>\n",
       "      <td>@TheDemocrats Sigh... not really.</td>\n",
       "      <td>JelliBadger</td>\n",
       "      <td>0</td>\n",
       "    </tr>\n",
       "  </tbody>\n",
       "</table>\n",
       "<p>9100 rows × 4 columns</p>\n",
       "</div>"
      ],
      "text/plain": [
       "                 tweet_id                                              tweet  \\\n",
       "0     1654657179448758273                        @TheDemocrats You’re a lier   \n",
       "1     1654657072305422336                                   @TheDemocrats BS   \n",
       "2     1654656813252616193              @TheDemocrats https://t.co/1h2MRp84g9   \n",
       "3     1654656782155886592    @TheDemocrats @JoeBiden https://t.co/CAqwCp6EMG   \n",
       "4     1654656513301176320              @TheDemocrats Lie. As usual from you.   \n",
       "...                   ...                                                ...   \n",
       "9095  1654648187448172545  @TheDemocrats Awesome. Show us the results now...   \n",
       "9096  1654648076995289088  @TheDemocrats What is it. 9% goes to infrastru...   \n",
       "9097  1654648003980931077  @TheDemocrats You want to remember that those ...   \n",
       "9098  1654647974574669828  @TheDemocrats Nope, don’t think so https://t.c...   \n",
       "9099  1654647961811582976                  @TheDemocrats Sigh... not really.   \n",
       "\n",
       "     user of the tweet  Prediction  \n",
       "0          BobDeGraff3           1  \n",
       "1      William68291741           0  \n",
       "2              EtepMax           0  \n",
       "3      DanielKraemerIV           0  \n",
       "4      1stPrinciples76           0  \n",
       "...                ...         ...  \n",
       "9095            CRAlG0           0  \n",
       "9096       Devilsrain4           0  \n",
       "9097      BillBlickman           0  \n",
       "9098         mwatford5           0  \n",
       "9099       JelliBadger           0  \n",
       "\n",
       "[9100 rows x 4 columns]"
      ]
     },
     "execution_count": 134,
     "metadata": {},
     "output_type": "execute_result"
    }
   ],
   "source": [
    "new_column_series = pd.Series(combine_pred)\n",
    "\n",
    "# add the new column to the original dataframe\n",
    "df.insert(loc=3,column='Prediction', value=new_column_series)\n",
    "df"
   ]
  },
  {
   "cell_type": "code",
   "execution_count": 135,
   "metadata": {},
   "outputs": [
    {
     "data": {
      "text/plain": [
       "<BarContainer object of 2 artists>"
      ]
     },
     "execution_count": 135,
     "metadata": {},
     "output_type": "execute_result"
    },
    {
     "data": {
      "text/plain": [
       "Text(0.5, 1.0, 'Distribution of Toxic and Non-Toxic Tweets')"
      ]
     },
     "execution_count": 135,
     "metadata": {},
     "output_type": "execute_result"
    },
    {
     "data": {
      "text/plain": [
       "Text(0.5, 0, 'Tweet Type')"
      ]
     },
     "execution_count": 135,
     "metadata": {},
     "output_type": "execute_result"
    },
    {
     "data": {
      "text/plain": [
       "Text(0, 0.5, 'Count')"
      ]
     },
     "execution_count": 135,
     "metadata": {},
     "output_type": "execute_result"
    },
    {
     "data": {
      "image/png": "[encoded data removed]",
      "text/plain": [
       "<Figure size 640x480 with 1 Axes>"
      ]
     },
     "metadata": {},
     "output_type": "display_data"
    }
   ],
   "source": [
    "counts = df[\"Prediction\"].value_counts()\n",
    "\n",
    "# Create a bar chart\n",
    "plt.bar([\"Non-toxic\", \"Toxic\"], counts)\n",
    "plt.title(\"Distribution of Toxic and Non-Toxic Tweets\")\n",
    "plt.xlabel(\"Tweet Type\")\n",
    "plt.ylabel(\"Count\")\n",
    "plt.show()"
   ]
  },
  {
   "attachments": {},
   "cell_type": "markdown",
   "metadata": {},
   "source": [
    "**Identifying Toxic Users**"
   ]
  },
  {
   "cell_type": "code",
   "execution_count": 136,
   "metadata": {},
   "outputs": [
    {
     "data": {
      "text/plain": [
       "466"
      ]
     },
     "execution_count": 136,
     "metadata": {},
     "output_type": "execute_result"
    }
   ],
   "source": [
    "toxic_users = [ i[\"user of the tweet\"] for index,i in df.iterrows() if i[\"Prediction\"] == 1]\n",
    "len(toxic_users)"
   ]
  },
  {
   "cell_type": "code",
   "execution_count": 137,
   "metadata": {},
   "outputs": [
    {
     "data": {
      "text/plain": [
       "5"
      ]
     },
     "execution_count": 137,
     "metadata": {},
     "output_type": "execute_result"
    }
   ],
   "source": [
    "toxic_users_unique = list(set(toxic_users))\n",
    "len(toxic_users_unique)"
   ]
  },
  {
   "attachments": {},
   "cell_type": "markdown",
   "metadata": {},
   "source": [
    "**These are the toxic users**"
   ]
  },
  {
   "cell_type": "code",
   "execution_count": 138,
   "metadata": {},
   "outputs": [
    {
     "data": {
      "text/plain": [
       "['francisco300zx', 'BobDeGraff3', 'CaliBerner', 'johnvernon21', 'JamesNole7']"
      ]
     },
     "execution_count": 138,
     "metadata": {},
     "output_type": "execute_result"
    }
   ],
   "source": [
    "toxic_users_unique\n"
   ]
  },
  {
   "attachments": {},
   "cell_type": "markdown",
   "metadata": {},
   "source": [
    "**Creating a Social Network**"
   ]
  },
  {
   "cell_type": "markdown",
   "metadata": {},
   "source": [
    "<font color=red><b>The below code needs Twitter Key to run<b></font>"
   ]
  },
  {
   "cell_type": "code",
   "execution_count": 139,
   "metadata": {},
   "outputs": [
    {
     "data": {
      "image/png": "[encoded data removed]",
      "text/plain": [
       "<Figure size 640x480 with 1 Axes>"
      ]
     },
     "metadata": {},
     "output_type": "display_data"
    }
   ],
   "source": [
    "import tweepy\n",
    "import networkx as nx\n",
    "import matplotlib.pyplot as plt\n",
    "\n",
    "G = nx.Graph()\n",
    "username = username\n",
    "\n",
    "users = api.lookup_users(screen_name=toxic_users_unique)\n",
    "for user in users:\n",
    "    G.add_node(user.screen_name, name=user.name, color=\"blue\")\n",
    "G.add_node(username,name=username,color=\"red\")\n",
    "\n",
    "for user_1 in toxic_users_unique:\n",
    "    for user_2 in toxic_users_unique:\n",
    "        if(user_1 != user_2):\n",
    "            try:\n",
    "                friendship = api.get_friendship(source_screen_name=user_1,target_screen_name=user_2)[0]\n",
    "            except tweepy.TweepyException as e:\n",
    "                if \"Too Many Requests\" in str(e):\n",
    "                    print(\"Rate limit exceeded. Waiting for 15 minutes.\")\n",
    "                    time.sleep(15 * 60)  # Wait for 15 minutes\n",
    "                    friendship = api.get_friendship(source_screen_name=user_1,target_screen_name=user_2)[0]\n",
    "                else:\n",
    "                    print(e)\n",
    "                # print(friendship)\n",
    "            if friendship.following:\n",
    "                    G.add_edge(user_1,user_2)\n",
    "            \n",
    "\n",
    "node_colors = {}\n",
    "for node in G.nodes():\n",
    "    if node == username:\n",
    "        node_colors[node] = 'red'\n",
    "    elif node in toxic_users_unique:\n",
    "        node_colors[node] = 'blue'\n",
    "\n",
    "for user in toxic_users_unique:\n",
    "    G.add_edge(username,user)\n",
    "\n",
    "nx.draw(G, with_labels=True, node_color=[node_colors[node] for node in G.nodes()])\n",
    "plt.show()\n"
   ]
  },
  {
   "attachments": {},
   "cell_type": "markdown",
   "metadata": {},
   "source": [
    "**Extract the tweets of all the toxic users**"
   ]
  },
  {
   "cell_type": "markdown",
   "metadata": {},
   "source": [
    "<font color=red><b>The below code needs Twitter Key to run<b></font>"
   ]
  },
  {
   "attachments": {},
   "cell_type": "markdown",
   "metadata": {},
   "source": [
    "**Skip this step:**\n",
    "The code that retrieves data from the Twitter API and builds a dataframe can be skipped since we have already retrieved the tweets from Twitter and created a CSV file."
   ]
  },
  {
   "cell_type": "code",
   "execution_count": 140,
   "metadata": {},
   "outputs": [
    {
     "data": {
      "text/html": [
       "<div>\n",
       "<style scoped>\n",
       "    .dataframe tbody tr th:only-of-type {\n",
       "        vertical-align: middle;\n",
       "    }\n",
       "\n",
       "    .dataframe tbody tr th {\n",
       "        vertical-align: top;\n",
       "    }\n",
       "\n",
       "    .dataframe thead th {\n",
       "        text-align: right;\n",
       "    }\n",
       "</style>\n",
       "<table border=\"1\" class=\"dataframe\">\n",
       "  <thead>\n",
       "    <tr style=\"text-align: right;\">\n",
       "      <th></th>\n",
       "      <th>username</th>\n",
       "      <th>tweet</th>\n",
       "      <th>metadata</th>\n",
       "    </tr>\n",
       "  </thead>\n",
       "  <tbody>\n",
       "    <tr>\n",
       "      <th>0</th>\n",
       "      <td>francisco300zx</td>\n",
       "      <td>@HillaryClinton Shut up, Meg!</td>\n",
       "      <td>{'created_at': 2023-05-06 01:16:23+00:00, 'id'...</td>\n",
       "    </tr>\n",
       "    <tr>\n",
       "      <th>1</th>\n",
       "      <td>francisco300zx</td>\n",
       "      <td>@POTUS Shut up, Meg!</td>\n",
       "      <td>{'created_at': 2023-05-06 01:16:07+00:00, 'id'...</td>\n",
       "    </tr>\n",
       "    <tr>\n",
       "      <th>2</th>\n",
       "      <td>francisco300zx</td>\n",
       "      <td>@TheDemocrats If only there wasn’t a Chinaviru...</td>\n",
       "      <td>{'created_at': 2023-05-06 01:15:00+00:00, 'id'...</td>\n",
       "    </tr>\n",
       "    <tr>\n",
       "      <th>3</th>\n",
       "      <td>francisco300zx</td>\n",
       "      <td>@RichardHanania Man, you’re a shill.</td>\n",
       "      <td>{'created_at': 2023-04-28 12:11:49+00:00, 'id'...</td>\n",
       "    </tr>\n",
       "    <tr>\n",
       "      <th>4</th>\n",
       "      <td>francisco300zx</td>\n",
       "      <td>@HillaryClinton We will just feel the pinch vi...</td>\n",
       "      <td>{'created_at': 2023-04-28 11:38:35+00:00, 'id'...</td>\n",
       "    </tr>\n",
       "    <tr>\n",
       "      <th>...</th>\n",
       "      <td>...</td>\n",
       "      <td>...</td>\n",
       "      <td>...</td>\n",
       "    </tr>\n",
       "    <tr>\n",
       "      <th>11821</th>\n",
       "      <td>JamesNole7</td>\n",
       "      <td>RT @DavidGravel: Raffle Time!!! I have my pair...</td>\n",
       "      <td>{'created_at': 2022-11-22 01:00:59+00:00, 'id'...</td>\n",
       "    </tr>\n",
       "    <tr>\n",
       "      <th>11822</th>\n",
       "      <td>JamesNole7</td>\n",
       "      <td>@tiagotakriginal @Breaking911 Great job!!</td>\n",
       "      <td>{'created_at': 2022-11-21 22:15:00+00:00, 'id'...</td>\n",
       "    </tr>\n",
       "    <tr>\n",
       "      <th>11823</th>\n",
       "      <td>JamesNole7</td>\n",
       "      <td>@deathinfaith @Breaking911 Correct</td>\n",
       "      <td>{'created_at': 2022-11-21 22:14:16+00:00, 'id'...</td>\n",
       "    </tr>\n",
       "    <tr>\n",
       "      <th>11824</th>\n",
       "      <td>JamesNole7</td>\n",
       "      <td>@deathinfaith @Breaking911 Nope your moma</td>\n",
       "      <td>{'created_at': 2022-11-21 22:13:28+00:00, 'id'...</td>\n",
       "    </tr>\n",
       "    <tr>\n",
       "      <th>11825</th>\n",
       "      <td>JamesNole7</td>\n",
       "      <td>@Breaking911 Nice</td>\n",
       "      <td>{'created_at': 2022-11-21 22:12:55+00:00, 'id'...</td>\n",
       "    </tr>\n",
       "  </tbody>\n",
       "</table>\n",
       "<p>11826 rows × 3 columns</p>\n",
       "</div>"
      ],
      "text/plain": [
       "             username                                              tweet  \\\n",
       "0      francisco300zx                      @HillaryClinton Shut up, Meg!   \n",
       "1      francisco300zx                               @POTUS Shut up, Meg!   \n",
       "2      francisco300zx  @TheDemocrats If only there wasn’t a Chinaviru...   \n",
       "3      francisco300zx               @RichardHanania Man, you’re a shill.   \n",
       "4      francisco300zx  @HillaryClinton We will just feel the pinch vi...   \n",
       "...               ...                                                ...   \n",
       "11821      JamesNole7  RT @DavidGravel: Raffle Time!!! I have my pair...   \n",
       "11822      JamesNole7          @tiagotakriginal @Breaking911 Great job!!   \n",
       "11823      JamesNole7                 @deathinfaith @Breaking911 Correct   \n",
       "11824      JamesNole7          @deathinfaith @Breaking911 Nope your moma   \n",
       "11825      JamesNole7                                  @Breaking911 Nice   \n",
       "\n",
       "                                                metadata  \n",
       "0      {'created_at': 2023-05-06 01:16:23+00:00, 'id'...  \n",
       "1      {'created_at': 2023-05-06 01:16:07+00:00, 'id'...  \n",
       "2      {'created_at': 2023-05-06 01:15:00+00:00, 'id'...  \n",
       "3      {'created_at': 2023-04-28 12:11:49+00:00, 'id'...  \n",
       "4      {'created_at': 2023-04-28 11:38:35+00:00, 'id'...  \n",
       "...                                                  ...  \n",
       "11821  {'created_at': 2022-11-22 01:00:59+00:00, 'id'...  \n",
       "11822  {'created_at': 2022-11-21 22:15:00+00:00, 'id'...  \n",
       "11823  {'created_at': 2022-11-21 22:14:16+00:00, 'id'...  \n",
       "11824  {'created_at': 2022-11-21 22:13:28+00:00, 'id'...  \n",
       "11825  {'created_at': 2022-11-21 22:12:55+00:00, 'id'...  \n",
       "\n",
       "[11826 rows x 3 columns]"
      ]
     },
     "execution_count": 140,
     "metadata": {},
     "output_type": "execute_result"
    }
   ],
   "source": [
    "# Define list of Twitter usernames\n",
    "usernames = toxic_users_unique\n",
    "\n",
    "# Define a function to collect tweets and metadata for a given user\n",
    "def get_user_tweets(username):\n",
    "    tweets = []\n",
    "    metadata = []\n",
    "    try:\n",
    "        get_tweets = tweepy.Cursor(api.user_timeline, screen_name=username, tweet_mode='extended')\n",
    "    except tweepy.TweepyException as e:\n",
    "                if \"Too Many Requests\" in str(e):\n",
    "                    print(\"Rate limit exceeded. Waiting for 15 minutes.\")\n",
    "                    time.sleep(15 * 60)  # Wait for 15 minutes\n",
    "                    get_tweets = tweepy.Cursor(api.user_timeline, screen_name=username, tweet_mode='extended')\n",
    "                else:\n",
    "                    print(e) \n",
    "    for tweet in get_tweets.items():\n",
    "        tweets.append(tweet.full_text)\n",
    "        metadata.append({'created_at': tweet.created_at,\n",
    "                         'id': tweet.id,\n",
    "                         'user_screen_name': tweet.user.screen_name,\n",
    "                         'user_name': tweet.user.name,\n",
    "                         'user_location': tweet.user.location,\n",
    "                         'user_followers_count': tweet.user.followers_count,\n",
    "                         'user_friends_count': tweet.user.friends_count,\n",
    "                         'user_created_at': tweet.user.created_at})\n",
    "    return tweets, metadata\n",
    "\n",
    "# Define an empty dataframe to store the data\n",
    "df = pd.DataFrame()\n",
    "\n",
    "# Collect data for each user and append to the dataframe\n",
    "for username in usernames:\n",
    "    try:\n",
    "        tweets, metadata = get_user_tweets(username)\n",
    "    except tweepy.TweepyException as e:\n",
    "                if \"Too Many Requests\" in str(e):\n",
    "                    print(\"Rate limit exceeded. Waiting for 15 minutes.\")\n",
    "                    time.sleep(15 * 60)  # Wait for 15 minutes\n",
    "                    tweets, metadata = get_user_tweets(username)\n",
    "                else:\n",
    "                    print(e) \n",
    "    temp_df = pd.DataFrame({'username': username,\n",
    "                            'tweet': tweets,\n",
    "                            'metadata': metadata})\n",
    "    df = pd.concat([df, temp_df], ignore_index=True)\n",
    "\n",
    "# Display the dataframe\n",
    "df\n"
   ]
  },
  {
   "cell_type": "code",
   "execution_count": 121,
   "metadata": {},
   "outputs": [
    {
     "data": {
      "text/html": [
       "<div>\n",
       "<style scoped>\n",
       "    .dataframe tbody tr th:only-of-type {\n",
       "        vertical-align: middle;\n",
       "    }\n",
       "\n",
       "    .dataframe tbody tr th {\n",
       "        vertical-align: top;\n",
       "    }\n",
       "\n",
       "    .dataframe thead th {\n",
       "        text-align: right;\n",
       "    }\n",
       "</style>\n",
       "<table border=\"1\" class=\"dataframe\">\n",
       "  <thead>\n",
       "    <tr style=\"text-align: right;\">\n",
       "      <th></th>\n",
       "      <th>username</th>\n",
       "      <th>tweet</th>\n",
       "      <th>metadata</th>\n",
       "    </tr>\n",
       "  </thead>\n",
       "  <tbody>\n",
       "    <tr>\n",
       "      <th>0</th>\n",
       "      <td>toast36884</td>\n",
       "      <td>@TheDemocrats Who the hell you trying to bull ...</td>\n",
       "      <td>{'created_at': datetime.datetime(2023, 5, 4, 2...</td>\n",
       "    </tr>\n",
       "    <tr>\n",
       "      <th>1</th>\n",
       "      <td>NancyFi61103202</td>\n",
       "      <td>@NEWSMAX Just bring back the Clydesdales</td>\n",
       "      <td>{'created_at': datetime.datetime(2023, 5, 4, 2...</td>\n",
       "    </tr>\n",
       "    <tr>\n",
       "      <th>2</th>\n",
       "      <td>NancyFi61103202</td>\n",
       "      <td>RT @gatewaypundit: Navy SEAL Who Killed Bin La...</td>\n",
       "      <td>{'created_at': datetime.datetime(2023, 5, 4, 2...</td>\n",
       "    </tr>\n",
       "    <tr>\n",
       "      <th>3</th>\n",
       "      <td>NancyFi61103202</td>\n",
       "      <td>RT @MattWalshBlog: Democracy was a mistake</td>\n",
       "      <td>{'created_at': datetime.datetime(2023, 5, 4, 2...</td>\n",
       "    </tr>\n",
       "    <tr>\n",
       "      <th>4</th>\n",
       "      <td>NancyFi61103202</td>\n",
       "      <td>RT @SarahisCensored: The loudest, most disrupt...</td>\n",
       "      <td>{'created_at': datetime.datetime(2023, 5, 4, 2...</td>\n",
       "    </tr>\n",
       "    <tr>\n",
       "      <th>...</th>\n",
       "      <td>...</td>\n",
       "      <td>...</td>\n",
       "      <td>...</td>\n",
       "    </tr>\n",
       "    <tr>\n",
       "      <th>17217</th>\n",
       "      <td>RayAnde34649425</td>\n",
       "      <td>@POTUS A pistol was used by a BLACK guy to own...</td>\n",
       "      <td>{'created_at': datetime.datetime(2023, 2, 14, ...</td>\n",
       "    </tr>\n",
       "    <tr>\n",
       "      <th>17218</th>\n",
       "      <td>RayAnde34649425</td>\n",
       "      <td>Why did the government derail a train to kill ...</td>\n",
       "      <td>{'created_at': datetime.datetime(2023, 2, 14, ...</td>\n",
       "    </tr>\n",
       "    <tr>\n",
       "      <th>17219</th>\n",
       "      <td>RayAnde34649425</td>\n",
       "      <td>@krassenstein If they kept the guy in jail pro...</td>\n",
       "      <td>{'created_at': datetime.datetime(2023, 2, 14, ...</td>\n",
       "    </tr>\n",
       "    <tr>\n",
       "      <th>17220</th>\n",
       "      <td>RayAnde34649425</td>\n",
       "      <td>@BarackObama @MichelleObama FU gay guy</td>\n",
       "      <td>{'created_at': datetime.datetime(2023, 2, 14, ...</td>\n",
       "    </tr>\n",
       "    <tr>\n",
       "      <th>17221</th>\n",
       "      <td>RayAnde34649425</td>\n",
       "      <td>@Jim_Jordan Send illegals up in balloons and s...</td>\n",
       "      <td>{'created_at': datetime.datetime(2023, 2, 14, ...</td>\n",
       "    </tr>\n",
       "  </tbody>\n",
       "</table>\n",
       "<p>17222 rows × 3 columns</p>\n",
       "</div>"
      ],
      "text/plain": [
       "              username                                              tweet  \\\n",
       "0           toast36884  @TheDemocrats Who the hell you trying to bull ...   \n",
       "1      NancyFi61103202           @NEWSMAX Just bring back the Clydesdales   \n",
       "2      NancyFi61103202  RT @gatewaypundit: Navy SEAL Who Killed Bin La...   \n",
       "3      NancyFi61103202         RT @MattWalshBlog: Democracy was a mistake   \n",
       "4      NancyFi61103202  RT @SarahisCensored: The loudest, most disrupt...   \n",
       "...                ...                                                ...   \n",
       "17217  RayAnde34649425  @POTUS A pistol was used by a BLACK guy to own...   \n",
       "17218  RayAnde34649425  Why did the government derail a train to kill ...   \n",
       "17219  RayAnde34649425  @krassenstein If they kept the guy in jail pro...   \n",
       "17220  RayAnde34649425             @BarackObama @MichelleObama FU gay guy   \n",
       "17221  RayAnde34649425  @Jim_Jordan Send illegals up in balloons and s...   \n",
       "\n",
       "                                                metadata  \n",
       "0      {'created_at': datetime.datetime(2023, 5, 4, 2...  \n",
       "1      {'created_at': datetime.datetime(2023, 5, 4, 2...  \n",
       "2      {'created_at': datetime.datetime(2023, 5, 4, 2...  \n",
       "3      {'created_at': datetime.datetime(2023, 5, 4, 2...  \n",
       "4      {'created_at': datetime.datetime(2023, 5, 4, 2...  \n",
       "...                                                  ...  \n",
       "17217  {'created_at': datetime.datetime(2023, 2, 14, ...  \n",
       "17218  {'created_at': datetime.datetime(2023, 2, 14, ...  \n",
       "17219  {'created_at': datetime.datetime(2023, 2, 14, ...  \n",
       "17220  {'created_at': datetime.datetime(2023, 2, 14, ...  \n",
       "17221  {'created_at': datetime.datetime(2023, 2, 14, ...  \n",
       "\n",
       "[17222 rows x 3 columns]"
      ]
     },
     "execution_count": 121,
     "metadata": {},
     "output_type": "execute_result"
    }
   ],
   "source": [
    "df = pd.read_csv(\"./Dataset/toxic_users_tweets.csv\", encoding = DATASET_ENCODING)\n",
    "df"
   ]
  },
  {
   "attachments": {},
   "cell_type": "markdown",
   "metadata": {},
   "source": [
    "**Aggregate all tweets for each user to form a document**"
   ]
  },
  {
   "cell_type": "code",
   "execution_count": 144,
   "metadata": {},
   "outputs": [
    {
     "data": {
      "text/html": [
       "<div>\n",
       "<style scoped>\n",
       "    .dataframe tbody tr th:only-of-type {\n",
       "        vertical-align: middle;\n",
       "    }\n",
       "\n",
       "    .dataframe tbody tr th {\n",
       "        vertical-align: top;\n",
       "    }\n",
       "\n",
       "    .dataframe thead th {\n",
       "        text-align: right;\n",
       "    }\n",
       "</style>\n",
       "<table border=\"1\" class=\"dataframe\">\n",
       "  <thead>\n",
       "    <tr style=\"text-align: right;\">\n",
       "      <th></th>\n",
       "      <th>username</th>\n",
       "      <th>tweet</th>\n",
       "      <th>metadata</th>\n",
       "    </tr>\n",
       "  </thead>\n",
       "  <tbody>\n",
       "    <tr>\n",
       "      <th>0</th>\n",
       "      <td>francisco300zx</td>\n",
       "      <td>@HillaryClinton Shut up, Meg!</td>\n",
       "      <td>{'created_at': 2023-05-06 01:16:23+00:00, 'id'...</td>\n",
       "    </tr>\n",
       "    <tr>\n",
       "      <th>1</th>\n",
       "      <td>francisco300zx</td>\n",
       "      <td>@POTUS Shut up, Meg!</td>\n",
       "      <td>{'created_at': 2023-05-06 01:16:07+00:00, 'id'...</td>\n",
       "    </tr>\n",
       "    <tr>\n",
       "      <th>2</th>\n",
       "      <td>francisco300zx</td>\n",
       "      <td>@TheDemocrats If only there wasn’t a Chinaviru...</td>\n",
       "      <td>{'created_at': 2023-05-06 01:15:00+00:00, 'id'...</td>\n",
       "    </tr>\n",
       "    <tr>\n",
       "      <th>3</th>\n",
       "      <td>francisco300zx</td>\n",
       "      <td>@RichardHanania Man, you’re a shill.</td>\n",
       "      <td>{'created_at': 2023-04-28 12:11:49+00:00, 'id'...</td>\n",
       "    </tr>\n",
       "    <tr>\n",
       "      <th>4</th>\n",
       "      <td>francisco300zx</td>\n",
       "      <td>@HillaryClinton We will just feel the pinch vi...</td>\n",
       "      <td>{'created_at': 2023-04-28 11:38:35+00:00, 'id'...</td>\n",
       "    </tr>\n",
       "  </tbody>\n",
       "</table>\n",
       "</div>"
      ],
      "text/plain": [
       "         username                                              tweet  \\\n",
       "0  francisco300zx                      @HillaryClinton Shut up, Meg!   \n",
       "1  francisco300zx                               @POTUS Shut up, Meg!   \n",
       "2  francisco300zx  @TheDemocrats If only there wasn’t a Chinaviru...   \n",
       "3  francisco300zx               @RichardHanania Man, you’re a shill.   \n",
       "4  francisco300zx  @HillaryClinton We will just feel the pinch vi...   \n",
       "\n",
       "                                            metadata  \n",
       "0  {'created_at': 2023-05-06 01:16:23+00:00, 'id'...  \n",
       "1  {'created_at': 2023-05-06 01:16:07+00:00, 'id'...  \n",
       "2  {'created_at': 2023-05-06 01:15:00+00:00, 'id'...  \n",
       "3  {'created_at': 2023-04-28 12:11:49+00:00, 'id'...  \n",
       "4  {'created_at': 2023-04-28 11:38:35+00:00, 'id'...  "
      ]
     },
     "execution_count": 144,
     "metadata": {},
     "output_type": "execute_result"
    }
   ],
   "source": [
    "# Generic inputs for most ML tasks\n",
    "import pandas as pd\n",
    "pd.options.display.float_format = '{:,.2f}'.format\n",
    "\n",
    "# setup interactive notebook mode\n",
    "from IPython.core.interactiveshell import InteractiveShell\n",
    "InteractiveShell.ast_node_interactivity = \"all\"\n",
    "\n",
    "from IPython.display import display, HTML\n",
    "import numpy as np\n",
    "from sklearn.datasets import fetch_20newsgroups\n",
    "\n",
    "rawdata = df\n",
    "\n",
    "rawdata.head()\n",
    "unique_users = rawdata['username'].unique()\n",
    "user_tweets = dict()\n",
    "\n",
    "#create a document for each users (dictionary of documents)\n",
    "for user in unique_users :\n",
    "    tweets = rawdata[rawdata['username'] == user ]['tweet']\n",
    "    user_tweets[user] = \"\"\n",
    "    for tweet in tweets :\n",
    "        user_tweets[user] = user_tweets[user] + \" \" + tweet\n"
   ]
  },
  {
   "attachments": {},
   "cell_type": "markdown",
   "metadata": {},
   "source": [
    "**K-Means Clustering**"
   ]
  },
  {
   "cell_type": "code",
   "execution_count": 154,
   "metadata": {},
   "outputs": [
    {
     "name": "stdout",
     "output_type": "stream",
     "text": [
      "4\n"
     ]
    }
   ],
   "source": [
    "import numpy as np\n",
    "import pandas as pd\n",
    "from sklearn.feature_extraction.text import TfidfVectorizer\n",
    "from sklearn.cluster import KMeans\n",
    "from sklearn.metrics import silhouette_score\n",
    "from nltk.corpus import stopwords\n",
    "\n",
    "# all tweets of user is one document\n",
    "documents = user_tweets.values()\n",
    "\n",
    "\n",
    "# Preprocess the text\n",
    "def preprocess(text):\n",
    "    return text.lower()\n",
    "\n",
    "preprocessed_documents = [preprocess(doc) for doc in documents]\n",
    "\n",
    "\n",
    "# Extract features using TF-IDF\n",
    "vectorizer = TfidfVectorizer(stop_words='english')\n",
    "X = vectorizer.fit_transform(preprocessed_documents)\n",
    "\n",
    "# Determine the optimal number of clusters using silhouette score\n",
    "# vary the range if needed\n",
    "range_limit = min([6,len(documents)-1])\n",
    "print(range_limit)\n",
    "n_clusters_range = range(2, range_limit)\n",
    "silhouette_scores = []\n",
    "\n"
   ]
  },
  {
   "cell_type": "code",
   "execution_count": 155,
   "metadata": {},
   "outputs": [
    {
     "data": {
      "text/html": [
       "<style>#sk-container-id-51 {color: black;background-color: white;}#sk-container-id-51 pre{padding: 0;}#sk-container-id-51 div.sk-toggleable {background-color: white;}#sk-container-id-51 label.sk-toggleable__label {cursor: pointer;display: block;width: 100%;margin-bottom: 0;padding: 0.3em;box-sizing: border-box;text-align: center;}#sk-container-id-51 label.sk-toggleable__label-arrow:before {content: \"▸\";float: left;margin-right: 0.25em;color: #696969;}#sk-container-id-51 label.sk-toggleable__label-arrow:hover:before {color: black;}#sk-container-id-51 div.sk-estimator:hover label.sk-toggleable__label-arrow:before {color: black;}#sk-container-id-51 div.sk-toggleable__content {max-height: 0;max-width: 0;overflow: hidden;text-align: left;background-color: #f0f8ff;}#sk-container-id-51 div.sk-toggleable__content pre {margin: 0.2em;color: black;border-radius: 0.25em;background-color: #f0f8ff;}#sk-container-id-51 input.sk-toggleable__control:checked~div.sk-toggleable__content {max-height: 200px;max-width: 100%;overflow: auto;}#sk-container-id-51 input.sk-toggleable__control:checked~label.sk-toggleable__label-arrow:before {content: \"▾\";}#sk-container-id-51 div.sk-estimator input.sk-toggleable__control:checked~label.sk-toggleable__label {background-color: #d4ebff;}#sk-container-id-51 div.sk-label input.sk-toggleable__control:checked~label.sk-toggleable__label {background-color: #d4ebff;}#sk-container-id-51 input.sk-hidden--visually {border: 0;clip: rect(1px 1px 1px 1px);clip: rect(1px, 1px, 1px, 1px);height: 1px;margin: -1px;overflow: hidden;padding: 0;position: absolute;width: 1px;}#sk-container-id-51 div.sk-estimator {font-family: monospace;background-color: #f0f8ff;border: 1px dotted black;border-radius: 0.25em;box-sizing: border-box;margin-bottom: 0.5em;}#sk-container-id-51 div.sk-estimator:hover {background-color: #d4ebff;}#sk-container-id-51 div.sk-parallel-item::after {content: \"\";width: 100%;border-bottom: 1px solid gray;flex-grow: 1;}#sk-container-id-51 div.sk-label:hover label.sk-toggleable__label {background-color: #d4ebff;}#sk-container-id-51 div.sk-serial::before {content: \"\";position: absolute;border-left: 1px solid gray;box-sizing: border-box;top: 0;bottom: 0;left: 50%;z-index: 0;}#sk-container-id-51 div.sk-serial {display: flex;flex-direction: column;align-items: center;background-color: white;padding-right: 0.2em;padding-left: 0.2em;position: relative;}#sk-container-id-51 div.sk-item {position: relative;z-index: 1;}#sk-container-id-51 div.sk-parallel {display: flex;align-items: stretch;justify-content: center;background-color: white;position: relative;}#sk-container-id-51 div.sk-item::before, #sk-container-id-51 div.sk-parallel-item::before {content: \"\";position: absolute;border-left: 1px solid gray;box-sizing: border-box;top: 0;bottom: 0;left: 50%;z-index: -1;}#sk-container-id-51 div.sk-parallel-item {display: flex;flex-direction: column;z-index: 1;position: relative;background-color: white;}#sk-container-id-51 div.sk-parallel-item:first-child::after {align-self: flex-end;width: 50%;}#sk-container-id-51 div.sk-parallel-item:last-child::after {align-self: flex-start;width: 50%;}#sk-container-id-51 div.sk-parallel-item:only-child::after {width: 0;}#sk-container-id-51 div.sk-dashed-wrapped {border: 1px dashed gray;margin: 0 0.4em 0.5em 0.4em;box-sizing: border-box;padding-bottom: 0.4em;background-color: white;}#sk-container-id-51 div.sk-label label {font-family: monospace;font-weight: bold;display: inline-block;line-height: 1.2em;}#sk-container-id-51 div.sk-label-container {text-align: center;}#sk-container-id-51 div.sk-container {/* jupyter's `normalize.less` sets `[hidden] { display: none; }` but bootstrap.min.css set `[hidden] { display: none !important; }` so we also need the `!important` here to be able to override the default hidden behavior on the sphinx rendered scikit-learn.org. See: https://github.com/scikit-learn/scikit-learn/issues/21755 */display: inline-block !important;position: relative;}#sk-container-id-51 div.sk-text-repr-fallback {display: none;}</style><div id=\"sk-container-id-51\" class=\"sk-top-container\"><div class=\"sk-text-repr-fallback\"><pre>KMeans(n_clusters=2, random_state=42)</pre><b>In a Jupyter environment, please rerun this cell to show the HTML representation or trust the notebook. <br />On GitHub, the HTML representation is unable to render, please try loading this page with nbviewer.org.</b></div><div class=\"sk-container\" hidden><div class=\"sk-item\"><div class=\"sk-estimator sk-toggleable\"><input class=\"sk-toggleable__control sk-hidden--visually\" id=\"sk-estimator-id-69\" type=\"checkbox\" checked><label for=\"sk-estimator-id-69\" class=\"sk-toggleable__label sk-toggleable__label-arrow\">KMeans</label><div class=\"sk-toggleable__content\"><pre>KMeans(n_clusters=2, random_state=42)</pre></div></div></div></div></div>"
      ],
      "text/plain": [
       "KMeans(n_clusters=2, random_state=42)"
      ]
     },
     "execution_count": 155,
     "metadata": {},
     "output_type": "execute_result"
    },
    {
     "name": "stdout",
     "output_type": "stream",
     "text": [
      "[1 1 0 1 0]\n"
     ]
    },
    {
     "data": {
      "text/html": [
       "<style>#sk-container-id-52 {color: black;background-color: white;}#sk-container-id-52 pre{padding: 0;}#sk-container-id-52 div.sk-toggleable {background-color: white;}#sk-container-id-52 label.sk-toggleable__label {cursor: pointer;display: block;width: 100%;margin-bottom: 0;padding: 0.3em;box-sizing: border-box;text-align: center;}#sk-container-id-52 label.sk-toggleable__label-arrow:before {content: \"▸\";float: left;margin-right: 0.25em;color: #696969;}#sk-container-id-52 label.sk-toggleable__label-arrow:hover:before {color: black;}#sk-container-id-52 div.sk-estimator:hover label.sk-toggleable__label-arrow:before {color: black;}#sk-container-id-52 div.sk-toggleable__content {max-height: 0;max-width: 0;overflow: hidden;text-align: left;background-color: #f0f8ff;}#sk-container-id-52 div.sk-toggleable__content pre {margin: 0.2em;color: black;border-radius: 0.25em;background-color: #f0f8ff;}#sk-container-id-52 input.sk-toggleable__control:checked~div.sk-toggleable__content {max-height: 200px;max-width: 100%;overflow: auto;}#sk-container-id-52 input.sk-toggleable__control:checked~label.sk-toggleable__label-arrow:before {content: \"▾\";}#sk-container-id-52 div.sk-estimator input.sk-toggleable__control:checked~label.sk-toggleable__label {background-color: #d4ebff;}#sk-container-id-52 div.sk-label input.sk-toggleable__control:checked~label.sk-toggleable__label {background-color: #d4ebff;}#sk-container-id-52 input.sk-hidden--visually {border: 0;clip: rect(1px 1px 1px 1px);clip: rect(1px, 1px, 1px, 1px);height: 1px;margin: -1px;overflow: hidden;padding: 0;position: absolute;width: 1px;}#sk-container-id-52 div.sk-estimator {font-family: monospace;background-color: #f0f8ff;border: 1px dotted black;border-radius: 0.25em;box-sizing: border-box;margin-bottom: 0.5em;}#sk-container-id-52 div.sk-estimator:hover {background-color: #d4ebff;}#sk-container-id-52 div.sk-parallel-item::after {content: \"\";width: 100%;border-bottom: 1px solid gray;flex-grow: 1;}#sk-container-id-52 div.sk-label:hover label.sk-toggleable__label {background-color: #d4ebff;}#sk-container-id-52 div.sk-serial::before {content: \"\";position: absolute;border-left: 1px solid gray;box-sizing: border-box;top: 0;bottom: 0;left: 50%;z-index: 0;}#sk-container-id-52 div.sk-serial {display: flex;flex-direction: column;align-items: center;background-color: white;padding-right: 0.2em;padding-left: 0.2em;position: relative;}#sk-container-id-52 div.sk-item {position: relative;z-index: 1;}#sk-container-id-52 div.sk-parallel {display: flex;align-items: stretch;justify-content: center;background-color: white;position: relative;}#sk-container-id-52 div.sk-item::before, #sk-container-id-52 div.sk-parallel-item::before {content: \"\";position: absolute;border-left: 1px solid gray;box-sizing: border-box;top: 0;bottom: 0;left: 50%;z-index: -1;}#sk-container-id-52 div.sk-parallel-item {display: flex;flex-direction: column;z-index: 1;position: relative;background-color: white;}#sk-container-id-52 div.sk-parallel-item:first-child::after {align-self: flex-end;width: 50%;}#sk-container-id-52 div.sk-parallel-item:last-child::after {align-self: flex-start;width: 50%;}#sk-container-id-52 div.sk-parallel-item:only-child::after {width: 0;}#sk-container-id-52 div.sk-dashed-wrapped {border: 1px dashed gray;margin: 0 0.4em 0.5em 0.4em;box-sizing: border-box;padding-bottom: 0.4em;background-color: white;}#sk-container-id-52 div.sk-label label {font-family: monospace;font-weight: bold;display: inline-block;line-height: 1.2em;}#sk-container-id-52 div.sk-label-container {text-align: center;}#sk-container-id-52 div.sk-container {/* jupyter's `normalize.less` sets `[hidden] { display: none; }` but bootstrap.min.css set `[hidden] { display: none !important; }` so we also need the `!important` here to be able to override the default hidden behavior on the sphinx rendered scikit-learn.org. See: https://github.com/scikit-learn/scikit-learn/issues/21755 */display: inline-block !important;position: relative;}#sk-container-id-52 div.sk-text-repr-fallback {display: none;}</style><div id=\"sk-container-id-52\" class=\"sk-top-container\"><div class=\"sk-text-repr-fallback\"><pre>KMeans(n_clusters=3, random_state=42)</pre><b>In a Jupyter environment, please rerun this cell to show the HTML representation or trust the notebook. <br />On GitHub, the HTML representation is unable to render, please try loading this page with nbviewer.org.</b></div><div class=\"sk-container\" hidden><div class=\"sk-item\"><div class=\"sk-estimator sk-toggleable\"><input class=\"sk-toggleable__control sk-hidden--visually\" id=\"sk-estimator-id-70\" type=\"checkbox\" checked><label for=\"sk-estimator-id-70\" class=\"sk-toggleable__label sk-toggleable__label-arrow\">KMeans</label><div class=\"sk-toggleable__content\"><pre>KMeans(n_clusters=3, random_state=42)</pre></div></div></div></div></div>"
      ],
      "text/plain": [
       "KMeans(n_clusters=3, random_state=42)"
      ]
     },
     "execution_count": 155,
     "metadata": {},
     "output_type": "execute_result"
    },
    {
     "name": "stdout",
     "output_type": "stream",
     "text": [
      "[1 1 2 0 2]\n"
     ]
    },
    {
     "data": {
      "text/html": [
       "<style>#sk-container-id-53 {color: black;background-color: white;}#sk-container-id-53 pre{padding: 0;}#sk-container-id-53 div.sk-toggleable {background-color: white;}#sk-container-id-53 label.sk-toggleable__label {cursor: pointer;display: block;width: 100%;margin-bottom: 0;padding: 0.3em;box-sizing: border-box;text-align: center;}#sk-container-id-53 label.sk-toggleable__label-arrow:before {content: \"▸\";float: left;margin-right: 0.25em;color: #696969;}#sk-container-id-53 label.sk-toggleable__label-arrow:hover:before {color: black;}#sk-container-id-53 div.sk-estimator:hover label.sk-toggleable__label-arrow:before {color: black;}#sk-container-id-53 div.sk-toggleable__content {max-height: 0;max-width: 0;overflow: hidden;text-align: left;background-color: #f0f8ff;}#sk-container-id-53 div.sk-toggleable__content pre {margin: 0.2em;color: black;border-radius: 0.25em;background-color: #f0f8ff;}#sk-container-id-53 input.sk-toggleable__control:checked~div.sk-toggleable__content {max-height: 200px;max-width: 100%;overflow: auto;}#sk-container-id-53 input.sk-toggleable__control:checked~label.sk-toggleable__label-arrow:before {content: \"▾\";}#sk-container-id-53 div.sk-estimator input.sk-toggleable__control:checked~label.sk-toggleable__label {background-color: #d4ebff;}#sk-container-id-53 div.sk-label input.sk-toggleable__control:checked~label.sk-toggleable__label {background-color: #d4ebff;}#sk-container-id-53 input.sk-hidden--visually {border: 0;clip: rect(1px 1px 1px 1px);clip: rect(1px, 1px, 1px, 1px);height: 1px;margin: -1px;overflow: hidden;padding: 0;position: absolute;width: 1px;}#sk-container-id-53 div.sk-estimator {font-family: monospace;background-color: #f0f8ff;border: 1px dotted black;border-radius: 0.25em;box-sizing: border-box;margin-bottom: 0.5em;}#sk-container-id-53 div.sk-estimator:hover {background-color: #d4ebff;}#sk-container-id-53 div.sk-parallel-item::after {content: \"\";width: 100%;border-bottom: 1px solid gray;flex-grow: 1;}#sk-container-id-53 div.sk-label:hover label.sk-toggleable__label {background-color: #d4ebff;}#sk-container-id-53 div.sk-serial::before {content: \"\";position: absolute;border-left: 1px solid gray;box-sizing: border-box;top: 0;bottom: 0;left: 50%;z-index: 0;}#sk-container-id-53 div.sk-serial {display: flex;flex-direction: column;align-items: center;background-color: white;padding-right: 0.2em;padding-left: 0.2em;position: relative;}#sk-container-id-53 div.sk-item {position: relative;z-index: 1;}#sk-container-id-53 div.sk-parallel {display: flex;align-items: stretch;justify-content: center;background-color: white;position: relative;}#sk-container-id-53 div.sk-item::before, #sk-container-id-53 div.sk-parallel-item::before {content: \"\";position: absolute;border-left: 1px solid gray;box-sizing: border-box;top: 0;bottom: 0;left: 50%;z-index: -1;}#sk-container-id-53 div.sk-parallel-item {display: flex;flex-direction: column;z-index: 1;position: relative;background-color: white;}#sk-container-id-53 div.sk-parallel-item:first-child::after {align-self: flex-end;width: 50%;}#sk-container-id-53 div.sk-parallel-item:last-child::after {align-self: flex-start;width: 50%;}#sk-container-id-53 div.sk-parallel-item:only-child::after {width: 0;}#sk-container-id-53 div.sk-dashed-wrapped {border: 1px dashed gray;margin: 0 0.4em 0.5em 0.4em;box-sizing: border-box;padding-bottom: 0.4em;background-color: white;}#sk-container-id-53 div.sk-label label {font-family: monospace;font-weight: bold;display: inline-block;line-height: 1.2em;}#sk-container-id-53 div.sk-label-container {text-align: center;}#sk-container-id-53 div.sk-container {/* jupyter's `normalize.less` sets `[hidden] { display: none; }` but bootstrap.min.css set `[hidden] { display: none !important; }` so we also need the `!important` here to be able to override the default hidden behavior on the sphinx rendered scikit-learn.org. See: https://github.com/scikit-learn/scikit-learn/issues/21755 */display: inline-block !important;position: relative;}#sk-container-id-53 div.sk-text-repr-fallback {display: none;}</style><div id=\"sk-container-id-53\" class=\"sk-top-container\"><div class=\"sk-text-repr-fallback\"><pre>KMeans(n_clusters=2, random_state=42)</pre><b>In a Jupyter environment, please rerun this cell to show the HTML representation or trust the notebook. <br />On GitHub, the HTML representation is unable to render, please try loading this page with nbviewer.org.</b></div><div class=\"sk-container\" hidden><div class=\"sk-item\"><div class=\"sk-estimator sk-toggleable\"><input class=\"sk-toggleable__control sk-hidden--visually\" id=\"sk-estimator-id-71\" type=\"checkbox\" checked><label for=\"sk-estimator-id-71\" class=\"sk-toggleable__label sk-toggleable__label-arrow\">KMeans</label><div class=\"sk-toggleable__content\"><pre>KMeans(n_clusters=2, random_state=42)</pre></div></div></div></div></div>"
      ],
      "text/plain": [
       "KMeans(n_clusters=2, random_state=42)"
      ]
     },
     "execution_count": 155,
     "metadata": {},
     "output_type": "execute_result"
    },
    {
     "name": "stdout",
     "output_type": "stream",
     "text": [
      "                                            Document  Cluster\n",
      "0   @HillaryClinton Shut up, Meg! @POTUS Shut up,...        1\n",
      "1   RT @RealOmarNavarro: I’ll leave this right he...        1\n",
      "2   RT @CaliBerner: @TheDemocrats Pig for Preside...        0\n",
      "3   @TheDemocrats May blow us all to hell. @TheDe...        1\n",
      "4   @TheDemocrats @JoeBiden Democrats are doing a...        0\n"
     ]
    },
    {
     "data": {
      "text/html": [
       "<div>\n",
       "<style scoped>\n",
       "    .dataframe tbody tr th:only-of-type {\n",
       "        vertical-align: middle;\n",
       "    }\n",
       "\n",
       "    .dataframe tbody tr th {\n",
       "        vertical-align: top;\n",
       "    }\n",
       "\n",
       "    .dataframe thead th {\n",
       "        text-align: right;\n",
       "    }\n",
       "</style>\n",
       "<table border=\"1\" class=\"dataframe\">\n",
       "  <thead>\n",
       "    <tr style=\"text-align: right;\">\n",
       "      <th></th>\n",
       "      <th>Document</th>\n",
       "      <th>Cluster</th>\n",
       "      <th>users</th>\n",
       "    </tr>\n",
       "  </thead>\n",
       "  <tbody>\n",
       "    <tr>\n",
       "      <th>0</th>\n",
       "      <td>@HillaryClinton Shut up, Meg! @POTUS Shut up,...</td>\n",
       "      <td>1</td>\n",
       "      <td>francisco300zx</td>\n",
       "    </tr>\n",
       "    <tr>\n",
       "      <th>1</th>\n",
       "      <td>RT @RealOmarNavarro: I’ll leave this right he...</td>\n",
       "      <td>1</td>\n",
       "      <td>BobDeGraff3</td>\n",
       "    </tr>\n",
       "    <tr>\n",
       "      <th>2</th>\n",
       "      <td>RT @CaliBerner: @TheDemocrats Pig for Preside...</td>\n",
       "      <td>0</td>\n",
       "      <td>CaliBerner</td>\n",
       "    </tr>\n",
       "    <tr>\n",
       "      <th>3</th>\n",
       "      <td>@TheDemocrats May blow us all to hell. @TheDe...</td>\n",
       "      <td>1</td>\n",
       "      <td>johnvernon21</td>\n",
       "    </tr>\n",
       "    <tr>\n",
       "      <th>4</th>\n",
       "      <td>@TheDemocrats @JoeBiden Democrats are doing a...</td>\n",
       "      <td>0</td>\n",
       "      <td>JamesNole7</td>\n",
       "    </tr>\n",
       "  </tbody>\n",
       "</table>\n",
       "</div>"
      ],
      "text/plain": [
       "                                            Document  Cluster           users\n",
       "0   @HillaryClinton Shut up, Meg! @POTUS Shut up,...        1  francisco300zx\n",
       "1   RT @RealOmarNavarro: I’ll leave this right he...        1     BobDeGraff3\n",
       "2   RT @CaliBerner: @TheDemocrats Pig for Preside...        0      CaliBerner\n",
       "3   @TheDemocrats May blow us all to hell. @TheDe...        1    johnvernon21\n",
       "4   @TheDemocrats @JoeBiden Democrats are doing a...        0      JamesNole7"
      ]
     },
     "execution_count": 155,
     "metadata": {},
     "output_type": "execute_result"
    }
   ],
   "source": [
    "for n_clusters in n_clusters_range:\n",
    "    kmeans = KMeans(n_clusters=n_clusters, init='k-means++', random_state=42)\n",
    "    kmeans.fit(X)\n",
    "    cluster_labels = kmeans.predict(X)\n",
    "    print(cluster_labels)\n",
    "    silhouette_scores.append(silhouette_score(X, cluster_labels))\n",
    "\n",
    "optimal_n_clusters = n_clusters_range[np.argmax(silhouette_scores)]\n",
    "\n",
    "# Perform K-means clustering\n",
    "kmeans = KMeans(n_clusters=optimal_n_clusters, init='k-means++', random_state=42)\n",
    "kmeans.fit(X)\n",
    "\n",
    "# Assign each document to a cluster\n",
    "document_clusters = kmeans.predict(X)\n",
    "\n",
    "# Display the results\n",
    "clustered_docs = pd.DataFrame({\"Document\": documents, \"Cluster\": document_clusters})\n",
    "print(clustered_docs)\n",
    "\n",
    "#user and values \n",
    "user_cluster = clustered_docs.copy().merge(pd.DataFrame(user_tweets.keys(), columns = ['users']), left_index = True, right_index = True)\n",
    "\n",
    "\n",
    "user_cluster.head()"
   ]
  },
  {
   "attachments": {},
   "cell_type": "markdown",
   "metadata": {},
   "source": [
    "**Clustering Visualizations-2D**"
   ]
  },
  {
   "cell_type": "code",
   "execution_count": 158,
   "metadata": {},
   "outputs": [
    {
     "name": "stdout",
     "output_type": "stream",
     "text": [
      "[[  16.38619   -38.12806 ]\n",
      " [  56.613533 -103.46218 ]\n",
      " [ -62.673313  -48.276855]\n",
      " [ -45.140846 -123.33661 ]\n",
      " [  15.289029 -171.44173 ]]\n"
     ]
    },
    {
     "name": "stderr",
     "output_type": "stream",
     "text": [
      "/Library/Frameworks/Python.framework/Versions/3.10/lib/python3.10/site-packages/sklearn/manifold/_t_sne.py:800: FutureWarning: The default initialization in TSNE will change from 'random' to 'pca' in 1.2.\n",
      "  warnings.warn(\n",
      "/Library/Frameworks/Python.framework/Versions/3.10/lib/python3.10/site-packages/sklearn/manifold/_t_sne.py:810: FutureWarning: The default learning rate in TSNE will change from 200.0 to 'auto' in 1.2.\n",
      "  warnings.warn(\n"
     ]
    },
    {
     "data": {
      "text/plain": [
       "<Figure size 800x600 with 0 Axes>"
      ]
     },
     "execution_count": 158,
     "metadata": {},
     "output_type": "execute_result"
    },
    {
     "data": {
      "text/plain": [
       "<matplotlib.collections.PathCollection at 0x2a3c64f10>"
      ]
     },
     "execution_count": 158,
     "metadata": {},
     "output_type": "execute_result"
    },
    {
     "data": {
      "text/plain": [
       "Text(16.38619, -38.12806, 'francisco300zx')"
      ]
     },
     "execution_count": 158,
     "metadata": {},
     "output_type": "execute_result"
    },
    {
     "data": {
      "text/plain": [
       "<matplotlib.collections.PathCollection at 0x2a3c64430>"
      ]
     },
     "execution_count": 158,
     "metadata": {},
     "output_type": "execute_result"
    },
    {
     "data": {
      "text/plain": [
       "Text(56.613533, -103.46218, 'BobDeGraff3')"
      ]
     },
     "execution_count": 158,
     "metadata": {},
     "output_type": "execute_result"
    },
    {
     "data": {
      "text/plain": [
       "<matplotlib.collections.PathCollection at 0x2a3bec070>"
      ]
     },
     "execution_count": 158,
     "metadata": {},
     "output_type": "execute_result"
    },
    {
     "data": {
      "text/plain": [
       "Text(-62.673313, -48.276855, 'CaliBerner')"
      ]
     },
     "execution_count": 158,
     "metadata": {},
     "output_type": "execute_result"
    },
    {
     "data": {
      "text/plain": [
       "<matplotlib.collections.PathCollection at 0x2a398b250>"
      ]
     },
     "execution_count": 158,
     "metadata": {},
     "output_type": "execute_result"
    },
    {
     "data": {
      "text/plain": [
       "Text(-45.140846, -123.33661, 'johnvernon21')"
      ]
     },
     "execution_count": 158,
     "metadata": {},
     "output_type": "execute_result"
    },
    {
     "data": {
      "text/plain": [
       "<matplotlib.collections.PathCollection at 0x2a3c658a0>"
      ]
     },
     "execution_count": 158,
     "metadata": {},
     "output_type": "execute_result"
    },
    {
     "data": {
      "text/plain": [
       "Text(15.289029, -171.44173, 'JamesNole7')"
      ]
     },
     "execution_count": 158,
     "metadata": {},
     "output_type": "execute_result"
    },
    {
     "data": {
      "text/plain": [
       "Text(0.5, 1.0, 'K-means  Clustering')"
      ]
     },
     "execution_count": 158,
     "metadata": {},
     "output_type": "execute_result"
    },
    {
     "data": {
      "text/plain": [
       "Text(0.5, 0, 't-SNE Dimension 1')"
      ]
     },
     "execution_count": 158,
     "metadata": {},
     "output_type": "execute_result"
    },
    {
     "data": {
      "text/plain": [
       "Text(0, 0.5, 't-SNE Dimension 2')"
      ]
     },
     "execution_count": 158,
     "metadata": {},
     "output_type": "execute_result"
    },
    {
     "data": {
      "image/png": "[encoded data removed]",
      "text/plain": [
       "<Figure size 800x600 with 1 Axes>"
      ]
     },
     "metadata": {},
     "output_type": "display_data"
    }
   ],
   "source": [
    "import numpy as np\n",
    "import pandas as pd\n",
    "import matplotlib.pyplot as plt\n",
    "from sklearn.feature_extraction.text import TfidfVectorizer\n",
    "from sklearn.cluster import KMeans\n",
    "from sklearn.metrics import silhouette_score\n",
    "from sklearn.manifold import TSNE\n",
    "\n",
    "# (Same dataset and preprocess function as before)\n",
    "\n",
    "\n",
    "# (Same clustering code as before)\n",
    "\n",
    "# Perform dimensionality reduction using t-SNE\n",
    "#scalar\n",
    "perplexity_val = min([5,len(documents)-1])\n",
    "tsne = TSNE(n_components=2, perplexity=perplexity_val, random_state=42)\n",
    "X_2d = tsne.fit_transform(X.toarray())\n",
    "\n",
    "print(X_2d)\n",
    "\n",
    "# Plot the clusters\n",
    "plt.figure(figsize=(8, 6))\n",
    "colors = ['b', 'g', 'r', 'c', 'm', 'y', 'k']\n",
    "markers = ['o', 'v', '^', '<', '>', 's', 'p']\n",
    "\n",
    "for i in range(len(X_2d)):\n",
    "    plt.scatter(X_2d[i, 0], X_2d[i, 1], s=100, c=colors[document_clusters[i]], marker=markers[document_clusters[i]])\n",
    "    plt.text(X_2d[i, 0], X_2d[i, 1], unique_users[i], fontsize=12)\n",
    "\n",
    "plt.title('K-means  Clustering')\n",
    "plt.xlabel('t-SNE Dimension 1')\n",
    "plt.ylabel('t-SNE Dimension 2')\n",
    "plt.show()\n"
   ]
  },
  {
   "attachments": {},
   "cell_type": "markdown",
   "metadata": {},
   "source": [
    "**Clustering Visualizations-3D**"
   ]
  },
  {
   "cell_type": "code",
   "execution_count": 159,
   "metadata": {},
   "outputs": [
    {
     "name": "stderr",
     "output_type": "stream",
     "text": [
      "/Library/Frameworks/Python.framework/Versions/3.10/lib/python3.10/site-packages/sklearn/manifold/_t_sne.py:800: FutureWarning: The default initialization in TSNE will change from 'random' to 'pca' in 1.2.\n",
      "  warnings.warn(\n",
      "/Library/Frameworks/Python.framework/Versions/3.10/lib/python3.10/site-packages/sklearn/manifold/_t_sne.py:810: FutureWarning: The default learning rate in TSNE will change from 200.0 to 'auto' in 1.2.\n",
      "  warnings.warn(\n"
     ]
    },
    {
     "data": {
      "text/plain": [
       "<mpl_toolkits.mplot3d.art3d.Path3DCollection at 0x10e6e4460>"
      ]
     },
     "execution_count": 159,
     "metadata": {},
     "output_type": "execute_result"
    },
    {
     "data": {
      "text/plain": [
       "Text(133.40378, 315.9704, 'francisco300zx')"
      ]
     },
     "execution_count": 159,
     "metadata": {},
     "output_type": "execute_result"
    },
    {
     "data": {
      "text/plain": [
       "<mpl_toolkits.mplot3d.art3d.Path3DCollection at 0x10e6e7640>"
      ]
     },
     "execution_count": 159,
     "metadata": {},
     "output_type": "execute_result"
    },
    {
     "data": {
      "text/plain": [
       "Text(68.81543, -63.724594, 'BobDeGraff3')"
      ]
     },
     "execution_count": 159,
     "metadata": {},
     "output_type": "execute_result"
    },
    {
     "data": {
      "text/plain": [
       "<mpl_toolkits.mplot3d.art3d.Path3DCollection at 0x10e71da80>"
      ]
     },
     "execution_count": 159,
     "metadata": {},
     "output_type": "execute_result"
    },
    {
     "data": {
      "text/plain": [
       "Text(119.915794, 44.859814, 'CaliBerner')"
      ]
     },
     "execution_count": 159,
     "metadata": {},
     "output_type": "execute_result"
    },
    {
     "data": {
      "text/plain": [
       "<mpl_toolkits.mplot3d.art3d.Path3DCollection at 0x10e71f070>"
      ]
     },
     "execution_count": 159,
     "metadata": {},
     "output_type": "execute_result"
    },
    {
     "data": {
      "text/plain": [
       "Text(-263.06952, -4.8130603, 'johnvernon21')"
      ]
     },
     "execution_count": 159,
     "metadata": {},
     "output_type": "execute_result"
    },
    {
     "data": {
      "text/plain": [
       "<mpl_toolkits.mplot3d.art3d.Path3DCollection at 0x285260880>"
      ]
     },
     "execution_count": 159,
     "metadata": {},
     "output_type": "execute_result"
    },
    {
     "data": {
      "text/plain": [
       "Text(-76.02685, -272.37152, 'JamesNole7')"
      ]
     },
     "execution_count": 159,
     "metadata": {},
     "output_type": "execute_result"
    },
    {
     "data": {
      "text/plain": [
       "Text(0.5, 0.92, 'K-means Clustering')"
      ]
     },
     "execution_count": 159,
     "metadata": {},
     "output_type": "execute_result"
    },
    {
     "data": {
      "text/plain": [
       "Text(0.5, 0, 't-SNE Dimension 1')"
      ]
     },
     "execution_count": 159,
     "metadata": {},
     "output_type": "execute_result"
    },
    {
     "data": {
      "text/plain": [
       "Text(0.5, 0.5, 't-SNE Dimension 2')"
      ]
     },
     "execution_count": 159,
     "metadata": {},
     "output_type": "execute_result"
    },
    {
     "data": {
      "text/plain": [
       "Text(0.5, 0, 't-SNE Dimension 3')"
      ]
     },
     "execution_count": 159,
     "metadata": {},
     "output_type": "execute_result"
    },
    {
     "data": {
      "image/png": "[encoded data removed]",
      "text/plain": [
       "<Figure size 800x600 with 1 Axes>"
      ]
     },
     "metadata": {},
     "output_type": "display_data"
    }
   ],
   "source": [
    "import numpy as np\n",
    "import pandas as pd\n",
    "import matplotlib.pyplot as plt\n",
    "from mpl_toolkits.mplot3d import Axes3D\n",
    "from sklearn.feature_extraction.text import TfidfVectorizer\n",
    "from sklearn.cluster import KMeans\n",
    "from sklearn.metrics import silhouette_score\n",
    "from sklearn.manifold import TSNE\n",
    "from nltk.corpus import stopwords\n",
    "\n",
    "# (Same dataset, preprocess function, feature extraction, and clustering code as before)\n",
    "\n",
    "# Perform dimensionality reduction using t-SNE\n",
    "perplexity_val = min([5,len(documents)-1])\n",
    "tsne = TSNE(n_components=3, perplexity=perplexity_val, random_state=42)\n",
    "X_3d = tsne.fit_transform(X.toarray())\n",
    "\n",
    "# Plot the clusters in 3D\n",
    "fig = plt.figure(figsize=(8, 6))\n",
    "ax = fig.add_subplot(111, projection='3d')\n",
    "\n",
    "colors = ['b', 'g', 'r', 'c', 'm', 'y', 'k']\n",
    "markers = ['o', 'v', '^', '<', '>', 's', 'p']\n",
    "\n",
    "for i in range(len(X_3d)):\n",
    "    ax.scatter(X_3d[i, 0], X_3d[i, 1], X_3d[i, 2], s=100, c=colors[document_clusters[i]], marker=markers[document_clusters[i]])\n",
    "    ax.text(X_3d[i, 0], X_3d[i, 1], X_3d[i, 2], unique_users[i], fontsize=12)\n",
    "\n",
    "ax.set_title('K-means Clustering')\n",
    "ax.set_xlabel('t-SNE Dimension 1')\n",
    "ax.set_ylabel('t-SNE Dimension 2')\n",
    "ax.set_zlabel('t-SNE Dimension 3')\n",
    "plt.show()\n"
   ]
  },
  {
   "attachments": {},
   "cell_type": "markdown",
   "metadata": {},
   "source": [
    "**Listing all token words**"
   ]
  },
  {
   "cell_type": "code",
   "execution_count": 160,
   "metadata": {},
   "outputs": [
    {
     "name": "stdout",
     "output_type": "stream",
     "text": [
      "5\n",
      "['00' '000' '0001' ... '𝙔𝙤𝙪' '𝟐𝟎𝟐𝟐' '𝟮𝟬𝟮𝟯']\n"
     ]
    }
   ],
   "source": [
    "print(len(X.toarray()))\n",
    "temp = X.toarray()\n",
    "print(vectorizer.get_feature_names_out())\n",
    "allW = vectorizer.get_feature_names_out()\n",
    "words =[ ] \n",
    "\n",
    "\n",
    "#print(words)"
   ]
  },
  {
   "cell_type": "code",
   "execution_count": 161,
   "metadata": {},
   "outputs": [],
   "source": [
    "usr = list(unique_users)\n",
    "def get_keywords_of_cluster(cluster, vect_x) :\n",
    "    sets = []\n",
    "    for c in cluster :\n",
    "        indx = usr.index(c)\n",
    "        x2 = x_[indx]\n",
    "        avg = sum(x2)/float(len(x2))\n",
    "        l = list()\n",
    "        for i in range(len(x2)) :\n",
    "            if x2[i] > avg :\n",
    "                l.append(allW[i])\n",
    "        sets.append(set(l))\n",
    "    s = sets[0]\n",
    "    for i in range(1,len(sets)):\n",
    "        s = s.intersection(sets[i])\n",
    "    return s"
   ]
  },
  {
   "cell_type": "code",
   "execution_count": 162,
   "metadata": {},
   "outputs": [],
   "source": [
    "#convert matrix\n",
    "x_ = X.toarray()"
   ]
  },
  {
   "attachments": {},
   "cell_type": "markdown",
   "metadata": {},
   "source": [
    "**Identifying commmon tokens in the clusters**"
   ]
  },
  {
   "cell_type": "code",
   "execution_count": 163,
   "metadata": {},
   "outputs": [
    {
     "name": "stdout",
     "output_type": "stream",
     "text": [
      "0 {'good', 'governor', 'electric', 'effective', 'footage', 'main', 'continuing', 'meeting', 'et', 'hey', 'away', 'passing', 'business', 'latest', 'kamalaharris', 'remember', 'democrat', 'police', 'city', 'officials', 'york', 'risks', 'clear', '39', 'care', 'proud', 'medical', 'went', 'ass', 'believing', 'okay', 'follow', 'gen', 'missing', 'watch', 'hands', 'blocks', 'pipeline', 'released', 'payments', 'attention', 'tweet', '2023', 'news', 'china', 'bought', 'happens', '14', 'thought', 'totally', 'job', 'driven', 'erin', 'approval', 'information', 'public', 'sean', 'red', 'national', 'nut', 'states', 'approves', 'wanted', 'pig', 'story', 'republicans', 'faced', 'vote', 'fresh', 'party', 'inflation', 'fraud', 'offices', 'spending', 'brings', 'man', 'social', '35', 'adams', '2nd', 'thing', 'shut', 'backs', 'hero', 'frankie', 'near', 'wsj', 'going', 'understand', 'wife', 'look', 'women', 'killing', 'choice', 'church', 'fail', 'pentagon', 'cnn', 'related', 'days', 'writers', 'funding', 'grateful', 'reason', 'power', 'means', 'cancer', 'growth', 'climbs', 'mark', 'feeling', 'dumping', 'ain', 'week', 'word', 'kids', 'corrupt', 'nato', 'hearing', 'rates', 'wall', 'speak', 'huge', 'reparations', 'run', 'shows', 'credit', 'files', 'baby', 'judge', 'jan', 'building', 'possible', 'area', 'candidate', 'conversation', 'arrest', 'just', 'buy', 'disaster', 'nypd', 'nfl', 'general', 'harris', 'mccarthy', 'cross', 'dirty', 'posts', 'reminder', 'kyle', 'happened', 'case', 'ladies', 'start', 'aid', 'woke', 'official', '30pm', 'taxes', 'soon', 'illegal', 'miss', 'accountable', 'boys', 'coming', 'wearing', 'spent', 'hit', 'lead', 'half', 'ukraine', 'happy', 'started', 'cbs', 'odds', 'stream', 'park', 'al', 'facts', 'trying', 'told', 'thank', 'gas', 'costs', 'real', 'worst', 'rise', 'arrested', '70', 'investment', 'answer', 'california', 'weeks', 'questions', 'end', 'pierre', 'act', 'need', 'plumbing', 'self', 'american', 'sense', 'rs', 'thomas', 'morning', 'remark', 'win', 'change', 'far', 'ju', 'sell', 'created', 'prices', 'progress', 'yesterday', 'honest', 'caused', 'carrier', 'll', 'sunday', 'weingarten', 'break', 'holding', 'fbi', 'close', 'https', 'buried', 'tonight', 'zero', 'think', 'court', 'leaker', 'making', 'work', 'protest', '11', 'thedemocrats', 'money', 'rule', 'following', 'banks', 'black', 'blames', 'finally', 'truck', 'day', 'trump', 'wait', 'came', 'ceos', 'identity', 'friend', 'arizona', 'attorney', 'guy', 'president', 'victory', 'hour', 'truly', 'maga', 'feel', 'bucks', 'ad', 'support', 'happen', 'fighting', 'men', 'ahh', 'did', 'goal', 'japan', 'based', 'closer', 'times', '12', 'situation', 'congress', 'revenue', 'shall', 'matter', 'chinese', 'scheme', 'trade', 'channel', 'policies', 'thanks', 'bills', 'democratic', 'global', 'subscribe', 'members', 'deserve', 'fox', 'higher', 'war', 'mcdonald', 'dumb', 'data', 'harassed', 'richard', 'drop', 'twitter', 'needs', 'stock', 'insider', 'department', 'ceo', 'documents', 'people', 'price', 'report', 'foxnews', 'game', 'state', 'dogs', 'history', 'fight', 'tried', 'don', 'media', 'stupid', 'pass', 'forget', 'early', 'remain', 'administration', 'cause', 'bull', 'asking', 'answers', 'hospital', 'action', 'potus', 'white', 'sign', 'si', 'covid', 'called', 'th', 'won', 'having', 'chatgpt', 'strategic', 'worse', 'best', 'store', 'doesn', 'john', 'fu', 'damn', 'ht', 'wow', 'exposed', 'rfk', 'tough', 'mind', 'seen', 'criminal', '300', 'playing', 'lie', 'regular', '100', 'theory', '500', 'retire', 'fund', 'eyes', 'thoughts', 'energy', 'tucker', 'home', 'military', 'update', 'line', 'present', 'gun', 'reporting', 'comes', 'dead', 'fed', 'moment', 'didn', 'shot', 'wins', 'count', 'population', 'tuned', 'trans', 'major', 'woman', 'interesting', 'launch', 'donald', 'chicago', 'market', 'paul', 'convention', 'excellent', 'sold', 'mom', 'values', 'humiliates', '8pm', 'confirm', 'directed', 'ai', 'running', 'randi', 'believe', 'utter', 'yes', 'mother', 'ceiling', 'dick', 'house', 'carlson', 'jr', 'politician', 'plans', 'future', 'sales', 'youtube', 'nyc', 'things', 'wild', 'industrial', 'status', 'voting', 'north', 'operating', 'make', 'cares', 'border', 'industry', 'return', 'unprecedented', 'female', 'person', 'fired', 'way', 'company', 'come', 'opinion', 'elected', 'expanding', 'abortion', 'boat', 'chief', 'movement', 'deep', 'poll', 'play', 'wonder', 'letter', 'trust', '20', 'economists', '2022', 'stop', 'board', 'panic', 'peter', 'group', 'factual', 'minister', 'incredible', 'troy', 'talking', 'joe', 'stay', 'light', 'rights', 'receive', 'americans', 'shit', 'really', 'silicon', 'interview', 'minute', 'saying', 'sure', 'car', 'point', 'million', 'post', 'wake', 'failing', 'results', 'beat', 'easy', 'rondesantisfl', 'comment', 'time', 'season', 'control', 'texas', 'chance', '27', 'helped', 'inside', 'vehicle', 'live', 'ha', 'dollars', 'problems', 'bring', 'blue', 'says', 'united', 'plan', 'bad', 'god', 'admin', 'elon', 'health', 'tool', 'changing', 'millions', 'valley', 'oh', 'taken', 'ev', 'investors', 'read', 'fuck', 'george', 'folks', 'couple', 'failed', 'vp', 'like', 'union', 'moderna', 'matt', 'long', 'common', 'banking', 'fyi', 'help', 'benefit', 'night', 'school', 'russia', 'michael', 'breaking', 'dr', 'security', 'new', 'negative', '2024', 'gop', 'town', '16', 'battle', 'moves', 'service', 'ready', 'maybe', '19', 'place', '000', 'using', 'runs', 'government', 'hold', 'civil', '10', 'companies', 'left', 'record', 'love', 'teacher', 'pa', 'lives', 'beautiful', 'op', 'true', 'project', 'let', 'director', 'absolutely', 'value', 'number', 'politicians', 'check', 'paid', 'patience', 'tony', 'know', 'counter', 'signed', 'nick', 'rt', 'race', 'happening', 'lose', 'proof', 'target', 'remove', 'goes', 'family', 'mayor', 'ok', 'years', 'statement', 'hell', 'protesters', 'hear', 'unless', 'culture', 'include', 'doing', 'tell', 'murdered', 'talk', 'liar', 'kills', 'works', '32', 'gives', 'contract', 'january', 'issues', 'agenda', 'laws', 'cos', 'green', 'bud', 'education', 'ind', 'cold', 'right', 'wrong', 'po', 'tomorrow', 'benefits', 'bu', 'calls', 'step', 'listen', 'caught', 'getting', 'tuckercarlson', 'create', 'small', 'april', 'community', 'visit', 'positive', 'understanding', 'idea', 'makes', 'wire', 'lemon', 'old', 'truth', 'alvin', 'desantis', 'gone', 'economy', 'estate', 'problem', 'hunter', 'russian', 'bets', 'air', 'forces', 'question', 'biden', 'image', 'regards', 'poor', 'vs', 'bragg', 'share', 'agree', 'migrants', 've', 'liars', 'reports', '50', '1st', 'biggest', 'gov', 'say', 'hard', 'attack', 'ago', 'dollar', 'cars', 'blame', 'democrats', 'got', 'increase', 'said', 'literally', 'scandal', 'imminent', 'pelosi', 'italian', 'dear', 'looks', 'trading', 'crazy', 'votes', 'ukrainian', 'track', 'continue', 'tesla', 'looking', 'approach', 'today', 'pretty', 'lying', 'paying', 'reported', 'largest', 'nice', 'drone', 'sorry', 'slam', 'review', 'deal', 'reverse', 'crash', 'big', 'macron', 'political', 'high', 'strong', 'thread', 'wish', 'taking', 'ron', '24', 'took', 'amp', 'cat', 'pay', 'year', 'join', 'hope', 'drive', 'welcome', 'estimated', 'asked', 'law', 'reportedly', 'ask', '30', 'sheet', 'moving', 'list', 'order', 'fat', 'try', 'country', 'florida', 'saw', 'iran', 'fake', 'society', 'crisis', 'dylan', 'presidential', 'late', 'massive', 'learn', 'rejects', 'multi', 'environmental', 'republican', 'world', 'scam', 'cheap', 'gets', 'boss', '00', 'position', 'returning', 'cop', 'climate', 'america', 'level', 'scum', 'residents', 'strike', 'thinks', 'book', 'senator', 'establishment', 'debt', 'santos', 'video', 'bank', 'tuesday', 'code', 'drag', 'homeless', 'team', 'development', 'obama', 'letting', 'issue', 'da', 'want', 'lawrence', 'stand', 'working', 'set', 'free', 'important', 'voted', 'taibbi', 'billion', 'isn', 'better', '15', 'including', 'surprise', 'different', 'gave', 'tax', 'focus', 'schools', 'great', 'life', 'covers', 'nashville', 'msnbc', 'usa', 'amid', 'little', 'rolling', 'does', 'election', 'kevin', 'joebiden', 'takes'}\n",
      "\n",
      "\n",
      "\n",
      "1 {'good', 'leave', 'away', 'hey', 'business', 'remember', 'democrat', 'stephenking', 'bigger', 'plain', 'clear', 'care', 'liz_cheney', 'ass', 'personal', 'follow', 'watch', 'hands', 'certainly', 'news', 'china', 'bought', 'happens', 'parents', 'job', 'seriously', 'impossible', 'husband', 'dinner', 'information', 'public', 'voice', 'racism', 'states', 'wanted', 'story', 'republicans', 'children', 'speakerpelosi', 'vote', 'longer', 'party', 'inflation', 'second', 'fraud', 'spending', 'mentality', 'human', 'man', 'thing', 'shut', 'campaign', 'exactly', 'hero', 'buddy', 'going', 'conspiracy', 'understand', 'lost', 'mental', 'wife', 'women', 'families', 'look', 'guns', 'killing', 'racist', 'amen', 'church', 'crap', 'cnn', 'days', 'power', 'reason', 'means', 'brain', 'greed', 'week', 'word', 'kids', 'corrupt', 'speak', 'run', 'baby', 'lavern_spicer', 'just', 'buy', 'spin', 'plane', 'hide', 'cost', 'giving', 'anti', 'start', 'earth', 'praise', 'taxes', 'soon', 'illegal', 'absolute', 'coming', 'haven', 'politics', 'drug', 'ukraine', 'happy', 'keeping', 'kinda', 'trying', 'given', 'hurt', 'told', 'lower', 'thank', 'prove', 'shoot', 'real', 'somebody', 'ending', 'stolen', 'mr', 'drugs', 'add', 'burn', 'answer', 'sex', 'questions', 'end', 'need', 'self', 'american', 'sense', 'bitch', 'communism', 'win', 'change', 'safe', 'claim', 'sell', 'prices', 'peace', 'hang', 'lied', 'll', 'died', 'break', 'https', 'think', 'making', 'joncoopertweets', 'work', 'thedemocrats', 'money', 'sen', 'black', 'jrpsaki', 'day', 'trump', 'wait', 'came', 'guy', 'luck', 'attacks', 'president', 'thinking', 'feel', 'use', 'happen', 'changed', 'men', 'did', 'spoiled', 'congress', 'matter', 'crime', 'knows', 'democratic', 'rules', 'barely', 'fly', 'citizens', 'war', 'travel', 'twitter', 'paper', 'needs', 'louder', 'dude', 'people', 'price', 'foxnews', 'state', 'history', 'justice', 'fight', 'tried', 'involvement', 'don', 'media', 'stupid', 'pass', 'forget', 'evil', 'hate', 'action', 'rich', 'ericswalwell', 'charged', 'potus', 'white', 'senate', 'covid', 'called', 'young', 'kind', 'won', 'having', 'th', 'threat', 'preach', 'worse', 'best', 'doesn', 'whitehouse', 'john', 'damn', 'cut', 'mind', 'seen', 'playing', 'lie', 'telling', 'elections', 'speech', 'rest', 'short', 'resign', 'mob', 'housegop', 'eyes', 'republic', 'secret', 'fauci', 'tucker', 'home', 'military', 'line', 'gun', 'rhetoric', 'usually', 'stopped', 'opinions', 'comes', 'dead', 'kill', 'quit', 'shot', 'woman', 'gender', 'putting', 'account', 'oil', 'reading', 'running', 'believe', 'yes', 'funny', 'low', 'mother', 'house', 'jealous', 'make', 'hot', 'voting', 'cares', 'included', 'calling', 'difference', 'tomfitton', 'wants', 'robreiner', 'violence', 'person', 'fired', 'way', 'company', 'come', 'opinion', 'elected', 'abortion', 'ashamed', 'treasonous', 'jim_jordan', 'greatest', 'stop', 'head', 'fun', 'eat', 'talking', 'joe', 'stay', 'claimed', 'rights', 'americans', 'shit', 'really', 'realize', 'majority', 'saying', 'sure', 'point', 'fact', 'sick', 'heart', 'easy', 'time', 'definition', 'office', 'thehill', 'control', 'texas', 'definitely', 'protect', 'mean', 'dollars', 'past', 'blacks', 'bring', 'blue', 'says', 'donaldjtrumpjr', 'united', 'class', 'plan', 'bad', 'god', 'jesus', 'health', 'millions', 'oh', 'billions', 'required', 'read', 'grand', 'teaching', 'vp', 'failed', 'like', 'saudi', 'meaning', 'long', 'help', 'night', 'school', 'breaking', 'lol', 'democracy', 'dr', 'security', 'new', 'gop', 'friends', 'service', 'ready', 'nancy', 'scared', 'maybe', 'place', '000', 'hold', 'civil', 'able', 'actions', '10', 'constitutional', 'bowl', 'left', 'love', 'blow', 'reach', 'beautiful', 'sue', 'true', 'let', 'child', 'joke', 'tells', 'shame', 'mexico', 'flag', 'know', 'rt', 'death', 'race', 'hand', 'target', 'remove', 'goes', 'dad', 'family', 'ok', 'years', 'hell', 'hear', 'unless', 'doing', 'tell', 'carry', 'gives', 'kick', 'education', 'right', 'wrong', 'seeing', 'calls', 'spy', 'caught', 'drink', 'getting', 'words', 'idea', 'makes', 'old', 'son', 'truth', 'nathaliejacoby1', 'gone', 'pays', 'economy', 'boy', 'hunter', 'problem', 'russian', 'legs', 'actually', 'guess', 'suck', 'heard', 'question', 'biden', 'sent', 'poor', 'share', 'agree', 've', 'sounds', 'say', 'hard', 'worry', 'ago', 'living', 'democrats', 'got', 'nation', 'depends', 'said', 'jail', 'joyannreid', 'pelosi', 'bullshit', 'dear', 'looks', 'balls', 'probably', 'crazy', 'waiting', 'reduce', 'yeah', 'looking', 'today', 'pretty', 'trial', 'sorry', 'deal', 'big', 'political', 'high', 'strong', 'wish', 'round', 'taking', 'took', 'amp', 'pay', 'year', 'hope', 'afraid', 'aren', 'asked', 'law', 'defending', 'ask', 'list', 'glory', 'try', 'country', 'prison', 'innocent', 'fake', 'society', 'crisis', 'fall', 'raising', 'learn', 'open', 'republican', 'world', 'boss', 'gets', 'pants', 'girls', 'cover', 'book', 'thinks', 'fuel', 'pro', 'worth', 'obama', 'calltoactivism', 'want', 'freedom', 'stand', 'weapon', 'working', 'set', 'free', 'important', 'isn', 'better', 'different', 'land', 'schools', 'stuff', 'great', 'life', 'msnbc', 'stick', 'defend', 'repmtg', 'little', 'does', 'election', 'smart', 'joebiden', 'ignore', 'takes'}\n",
      "\n",
      "\n",
      "\n"
     ]
    }
   ],
   "source": [
    "cluster_keywords = dict()\n",
    "\n",
    "groups_keyword = dict()\n",
    "\n",
    "for clus in set(user_cluster['Cluster']):\n",
    "    users = user_cluster[user_cluster['Cluster'] == clus]['users'].values.tolist()\n",
    "    keywords = get_keywords_of_cluster(users,x_)\n",
    "    if len(users) >= 2 :\n",
    "        groups_keyword[clus] = keywords\n",
    "    cluster_keywords[clus] = keywords\n",
    "    \n",
    "    \n",
    "for key in groups_keyword :\n",
    "    print(key,groups_keyword[key])\n",
    "    print(\"\\n\\n\")"
   ]
  }
 ],
 "metadata": {
  "kernelspec": {
   "display_name": "Python 3",
   "language": "python",
   "name": "python3"
  },
  "language_info": {
   "codemirror_mode": {
    "name": "ipython",
    "version": 3
   },
   "file_extension": ".py",
   "mimetype": "text/x-python",
   "name": "python",
   "nbconvert_exporter": "python",
   "pygments_lexer": "ipython3",
   "version": "3.10.6"
  },
  "orig_nbformat": 4,
  "vscode": {
   "interpreter": {
    "hash": "aee8b7b246df8f9039afb4144a1f6fd8d2ca17a180786b69acc140d282b71a49"
   }
  }
 },
 "nbformat": 4,
 "nbformat_minor": 2
}

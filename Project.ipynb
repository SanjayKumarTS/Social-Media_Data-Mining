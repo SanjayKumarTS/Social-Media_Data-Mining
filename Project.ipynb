{
 "cells": [
  {
   "attachments": {},
   "cell_type": "markdown",
   "metadata": {},
   "source": [
    "**Importing the Training Dataset**\n",
    "\n",
    "This dataset consists of tweets and their classification of toxicity levels."
   ]
  },
  {
   "cell_type": "code",
   "execution_count": 97,
   "metadata": {},
   "outputs": [
    {
     "data": {
      "text/html": [
       "<div>\n",
       "<style scoped>\n",
       "    .dataframe tbody tr th:only-of-type {\n",
       "        vertical-align: middle;\n",
       "    }\n",
       "\n",
       "    .dataframe tbody tr th {\n",
       "        vertical-align: top;\n",
       "    }\n",
       "\n",
       "    .dataframe thead th {\n",
       "        text-align: right;\n",
       "    }\n",
       "</style>\n",
       "<table border=\"1\" class=\"dataframe\">\n",
       "  <thead>\n",
       "    <tr style=\"text-align: right;\">\n",
       "      <th></th>\n",
       "      <th>id</th>\n",
       "      <th>comment_text</th>\n",
       "      <th>toxic</th>\n",
       "      <th>severe_toxic</th>\n",
       "      <th>obscene</th>\n",
       "      <th>threat</th>\n",
       "      <th>insult</th>\n",
       "      <th>identity_hate</th>\n",
       "    </tr>\n",
       "  </thead>\n",
       "  <tbody>\n",
       "    <tr>\n",
       "      <th>0</th>\n",
       "      <td>0000997932d777bf</td>\n",
       "      <td>Explanation\\nWhy the edits made under my usern...</td>\n",
       "      <td>0</td>\n",
       "      <td>0</td>\n",
       "      <td>0</td>\n",
       "      <td>0</td>\n",
       "      <td>0</td>\n",
       "      <td>0</td>\n",
       "    </tr>\n",
       "    <tr>\n",
       "      <th>1</th>\n",
       "      <td>000103f0d9cfb60f</td>\n",
       "      <td>D'aww! He matches this background colour I'm s...</td>\n",
       "      <td>0</td>\n",
       "      <td>0</td>\n",
       "      <td>0</td>\n",
       "      <td>0</td>\n",
       "      <td>0</td>\n",
       "      <td>0</td>\n",
       "    </tr>\n",
       "    <tr>\n",
       "      <th>2</th>\n",
       "      <td>000113f07ec002fd</td>\n",
       "      <td>Hey man, I'm really not trying to edit war. It...</td>\n",
       "      <td>0</td>\n",
       "      <td>0</td>\n",
       "      <td>0</td>\n",
       "      <td>0</td>\n",
       "      <td>0</td>\n",
       "      <td>0</td>\n",
       "    </tr>\n",
       "    <tr>\n",
       "      <th>3</th>\n",
       "      <td>0001b41b1c6bb37e</td>\n",
       "      <td>\"\\nMore\\nI can't make any real suggestions on ...</td>\n",
       "      <td>0</td>\n",
       "      <td>0</td>\n",
       "      <td>0</td>\n",
       "      <td>0</td>\n",
       "      <td>0</td>\n",
       "      <td>0</td>\n",
       "    </tr>\n",
       "    <tr>\n",
       "      <th>4</th>\n",
       "      <td>0001d958c54c6e35</td>\n",
       "      <td>You, sir, are my hero. Any chance you remember...</td>\n",
       "      <td>0</td>\n",
       "      <td>0</td>\n",
       "      <td>0</td>\n",
       "      <td>0</td>\n",
       "      <td>0</td>\n",
       "      <td>0</td>\n",
       "    </tr>\n",
       "  </tbody>\n",
       "</table>\n",
       "</div>"
      ],
      "text/plain": [
       "                 id                                       comment_text  toxic  \\\n",
       "0  0000997932d777bf  Explanation\\nWhy the edits made under my usern...      0   \n",
       "1  000103f0d9cfb60f  D'aww! He matches this background colour I'm s...      0   \n",
       "2  000113f07ec002fd  Hey man, I'm really not trying to edit war. It...      0   \n",
       "3  0001b41b1c6bb37e  \"\\nMore\\nI can't make any real suggestions on ...      0   \n",
       "4  0001d958c54c6e35  You, sir, are my hero. Any chance you remember...      0   \n",
       "\n",
       "   severe_toxic  obscene  threat  insult  identity_hate  \n",
       "0             0        0       0       0              0  \n",
       "1             0        0       0       0              0  \n",
       "2             0        0       0       0              0  \n",
       "3             0        0       0       0              0  \n",
       "4             0        0       0       0              0  "
      ]
     },
     "execution_count": 97,
     "metadata": {},
     "output_type": "execute_result"
    }
   ],
   "source": [
    "import pandas as pd\n",
    "import numpy as np\n",
    "\n",
    "DATASET_ENCODING = \"ISO-8859-1\"\n",
    "dataframe = pd.read_csv(\"./Dataset/train.csv\", encoding = DATASET_ENCODING)\n",
    "dataframe.head()\n"
   ]
  },
  {
   "attachments": {},
   "cell_type": "markdown",
   "metadata": {},
   "source": [
    "**Massaging the Dataset**\n",
    "\n",
    "We don't need the levels of toxicity, we only need to know if the tweet is toxic or non-toxic. Hence, removing the un-necessary columns and adding target column (0 - Toxic, 1 - Non-Toxic). "
   ]
  },
  {
   "cell_type": "code",
   "execution_count": 98,
   "metadata": {},
   "outputs": [
    {
     "data": {
      "text/html": [
       "<div>\n",
       "<style scoped>\n",
       "    .dataframe tbody tr th:only-of-type {\n",
       "        vertical-align: middle;\n",
       "    }\n",
       "\n",
       "    .dataframe tbody tr th {\n",
       "        vertical-align: top;\n",
       "    }\n",
       "\n",
       "    .dataframe thead th {\n",
       "        text-align: right;\n",
       "    }\n",
       "</style>\n",
       "<table border=\"1\" class=\"dataframe\">\n",
       "  <thead>\n",
       "    <tr style=\"text-align: right;\">\n",
       "      <th></th>\n",
       "      <th>comment_text</th>\n",
       "      <th>target</th>\n",
       "    </tr>\n",
       "  </thead>\n",
       "  <tbody>\n",
       "    <tr>\n",
       "      <th>0</th>\n",
       "      <td>Explanation\\nWhy the edits made under my usern...</td>\n",
       "      <td>0</td>\n",
       "    </tr>\n",
       "    <tr>\n",
       "      <th>1</th>\n",
       "      <td>D'aww! He matches this background colour I'm s...</td>\n",
       "      <td>0</td>\n",
       "    </tr>\n",
       "    <tr>\n",
       "      <th>2</th>\n",
       "      <td>Hey man, I'm really not trying to edit war. It...</td>\n",
       "      <td>0</td>\n",
       "    </tr>\n",
       "    <tr>\n",
       "      <th>3</th>\n",
       "      <td>\"\\nMore\\nI can't make any real suggestions on ...</td>\n",
       "      <td>0</td>\n",
       "    </tr>\n",
       "    <tr>\n",
       "      <th>4</th>\n",
       "      <td>You, sir, are my hero. Any chance you remember...</td>\n",
       "      <td>0</td>\n",
       "    </tr>\n",
       "  </tbody>\n",
       "</table>\n",
       "</div>"
      ],
      "text/plain": [
       "                                        comment_text  target\n",
       "0  Explanation\\nWhy the edits made under my usern...       0\n",
       "1  D'aww! He matches this background colour I'm s...       0\n",
       "2  Hey man, I'm really not trying to edit war. It...       0\n",
       "3  \"\\nMore\\nI can't make any real suggestions on ...       0\n",
       "4  You, sir, are my hero. Any chance you remember...       0"
      ]
     },
     "execution_count": 98,
     "metadata": {},
     "output_type": "execute_result"
    }
   ],
   "source": [
    "dataframe[\"target\"] = [ 1 if row[\"toxic\"] == 1 or row[\"severe_toxic\"] == 1 or row[\"obscene\"] == 1 or row[\"threat\"] == 1 or row[\"insult\"] == 1 or row[\"identity_hate\"] == 1 else 0 for index, row in dataframe.iterrows()]\n",
    "dataframe = dataframe.drop(labels=[\"toxic\",\"severe_toxic\",\"obscene\",\"threat\",\"insult\",\"identity_hate\",\"id\"], axis=1)\n",
    "dataframe.head()"
   ]
  },
  {
   "attachments": {},
   "cell_type": "markdown",
   "metadata": {},
   "source": [
    "**Splitting the dataset for Train and Test**"
   ]
  },
  {
   "cell_type": "code",
   "execution_count": 99,
   "metadata": {},
   "outputs": [],
   "source": [
    "from sklearn.model_selection import train_test_split\n",
    "X_train, X_test,Y_train, Y_test = train_test_split(dataframe[\"comment_text\"],dataframe[\"target\"] ,random_state=71, test_size=0.33, shuffle=True)"
   ]
  },
  {
   "attachments": {},
   "cell_type": "markdown",
   "metadata": {},
   "source": [
    "**Preprocessing the Training dataset**\n",
    "\n",
    "Preprocessing, both training and testing dataset. \n",
    "1. Remove URL's \n",
    "2. Remove mentions and hashtags\n",
    "3. Remove special characters and punctuation\n",
    "4. Convert to lowercase\n",
    "5. Remove extra whitespace"
   ]
  },
  {
   "cell_type": "code",
   "execution_count": 100,
   "metadata": {},
   "outputs": [],
   "source": [
    "import re\n",
    "\n",
    "def preprocess_tweet(tweet):\n",
    "    # Remove URLs\n",
    "    tweet = str(tweet)\n",
    "    tweet = re.sub(r\"http\\S+\", \"\", tweet)\n",
    "    # Remove mentions and hashtags\n",
    "    tweet = re.sub(r\"@[A-Za-z0-9]+\", \"\", tweet)\n",
    "    tweet = re.sub(r\"#[A-Za-z0-9]+\", \"\", tweet)\n",
    "    # Remove special characters and punctuation\n",
    "    tweet = re.sub(r\"[^a-zA-Z0-9]\", \" \", tweet)\n",
    "    # Convert to lowercase\n",
    "    tweet = tweet.lower()\n",
    "    # Remove extra whitespace\n",
    "    tweet = re.sub(r\"\\s+\", \" \", tweet).strip()\n",
    "    return tweet\n",
    "\n",
    "\n",
    "X_train = [preprocess_tweet(tweet) for tweet in X_train]\n",
    "X_test = [preprocess_tweet(tweet) for tweet in X_test]"
   ]
  },
  {
   "attachments": {},
   "cell_type": "markdown",
   "metadata": {},
   "source": [
    "**Initilizing TFID Vectorizer of SkLearn for feature extraction**"
   ]
  },
  {
   "cell_type": "code",
   "execution_count": 101,
   "metadata": {},
   "outputs": [],
   "source": [
    "from sklearn.feature_extraction.text import TfidfVectorizer\n",
    "vectorizer = TfidfVectorizer(stop_words='english')\n"
   ]
  },
  {
   "attachments": {},
   "cell_type": "markdown",
   "metadata": {},
   "source": [
    "**Naive Bayes Classifier**"
   ]
  },
  {
   "cell_type": "code",
   "execution_count": 102,
   "metadata": {},
   "outputs": [
    {
     "name": "stdout",
     "output_type": "stream",
     "text": [
      "Accuracy: 0.9170132361039898\n"
     ]
    }
   ],
   "source": [
    "import numpy as np\n",
    "from sklearn.naive_bayes import MultinomialNB\n",
    "from sklearn.metrics import accuracy_score\n",
    "from sklearn.pipeline import make_pipeline\n",
    "\n",
    "# Initialize classifier\n",
    "nb_clf = MultinomialNB()\n",
    "\n",
    "# Build the pipeline\n",
    "nb_pipeline = make_pipeline(vectorizer, nb_clf)\n",
    "\n",
    "# Fit the model to training data\n",
    "nb_pipeline.fit(X_train, Y_train)\n",
    "\n",
    "# Predict on testing data\n",
    "y_pred = nb_pipeline.predict(X_test)\n",
    "\n",
    "# Calculate accuracy score\n",
    "accuracy = accuracy_score(Y_test, y_pred)\n",
    "print(\"Accuracy:\", accuracy)"
   ]
  },
  {
   "attachments": {},
   "cell_type": "markdown",
   "metadata": {},
   "source": [
    "**SVM Classifier**"
   ]
  },
  {
   "cell_type": "code",
   "execution_count": 103,
   "metadata": {},
   "outputs": [
    {
     "name": "stdout",
     "output_type": "stream",
     "text": [
      "Accuracy: 0.9413395620881521\n"
     ]
    }
   ],
   "source": [
    "from sklearn.decomposition import TruncatedSVD\n",
    "from sklearn.feature_extraction.text import TfidfVectorizer\n",
    "from sklearn.svm import SVC\n",
    "from sklearn.pipeline import Pipeline\n",
    "\n",
    "# Define the pipeline\n",
    "svm_pipeline = Pipeline([\n",
    "    ('tfidf', vectorizer),\n",
    "    ('svd', TruncatedSVD(n_components=300)),\n",
    "    ('svm', SVC(kernel='linear'))\n",
    "])\n",
    "\n",
    "# Fit the pipeline to the training data\n",
    "svm_pipeline.fit(X_train, Y_train)\n",
    "\n",
    "# Evaluate the pipeline on the test data\n",
    "y_pred = svm_pipeline.predict(X_test)\n",
    "accuracy = accuracy_score(Y_test, y_pred)\n",
    "print(\"Accuracy:\", accuracy)"
   ]
  },
  {
   "attachments": {},
   "cell_type": "markdown",
   "metadata": {},
   "source": [
    "**Decision Tree Classifier**"
   ]
  },
  {
   "cell_type": "code",
   "execution_count": 104,
   "metadata": {},
   "outputs": [
    {
     "name": "stdout",
     "output_type": "stream",
     "text": [
      "Random Forest accuracy: 0.9530754476917526\n"
     ]
    }
   ],
   "source": [
    "from sklearn.feature_extraction.text import TfidfVectorizer\n",
    "from sklearn.tree import DecisionTreeClassifier\n",
    "from sklearn.ensemble import RandomForestClassifier, GradientBoostingClassifier\n",
    "\n",
    "# dt_clf = DecisionTreeClassifier()\n",
    "rf_clf = RandomForestClassifier()\n",
    "# gb_clf = GradientBoostingClassifier()\n",
    "\n",
    "# Define pipeline for Decision Tree\n",
    "# dt_pipeline = Pipeline([\n",
    "#     ('vect', vectorizer),\n",
    "#     ('clf', dt_clf)\n",
    "# ])\n",
    "\n",
    "# Define pipeline for Random Forest\n",
    "rf_pipeline = Pipeline([\n",
    "    ('vect', vectorizer),\n",
    "    ('clf', rf_clf)\n",
    "])\n",
    "\n",
    "# Define pipeline for Gradient Boosting\n",
    "# gb_pipeline = Pipeline([\n",
    "#     ('vect', vectorizer),\n",
    "#     ('clf', gb_clf)\n",
    "# ])\n",
    "\n",
    "# Train and fit the models\n",
    "# dt_pipeline.fit(X_train, Y_train)\n",
    "rf_pipeline.fit(X_train, Y_train)\n",
    "# gb_pipeline.fit(X_train, Y_train)\n",
    "\n",
    "# Predict using the models\n",
    "# dt_prediction = dt_pipeline.predict(X_test)\n",
    "rf_prediction = rf_pipeline.predict(X_test)\n",
    "# gb_prediction = gb_pipeline.predict(X_test)\n",
    "\n",
    "# Evaluate the models\n",
    "# dt_accuracy = dt_pipeline.score(X_test, Y_test)\n",
    "rf_accuracy = rf_pipeline.score(X_test, Y_test)\n",
    "# gb_accuracy = gb_pipeline.score(X_test, Y_test)\n",
    "\n",
    "# print(\"Decision Tree accuracy:\", dt_accuracy)\n",
    "print(\"Random Forest accuracy:\", rf_accuracy)\n",
    "# print(\"Gradient Boosting accuracy:\", gb_accuracy)\n"
   ]
  },
  {
   "attachments": {},
   "cell_type": "markdown",
   "metadata": {},
   "source": [
    "**Initilizing Tweepy API Object**"
   ]
  },
  {
   "cell_type": "code",
   "execution_count": 109,
   "metadata": {},
   "outputs": [],
   "source": [
    "import tweepy\n",
    "import pandas as pd\n",
    "\n",
    "# Enter your API keys and access tokens here\n",
    "CONSUMER_KEY = 'e70jaac85aASCS8qg2N0aCB8P'\n",
    "CONSUMER_SECRET = 'yytDOrc9JN8Xxih5lfvIF6ALvWYGW7LoDFhgHbtradEO7nnIjc'\n",
    "OAUTH_TOKEN = '1267093465659301890-r7fiLA5bRVZHxpAQdnmSOYwnxfeFmF'\n",
    "OAUTH_TOKEN_SECRET = 'pqskdjvhckzzokCWhOkCtSqcsZlPyo4Ry9s80fQ19mzPN'\n",
    "\n",
    "# CONSUMER_KEY = \"QKOLM8Az8HAK5oy3kjz6Cav1W\"\n",
    "# CONSUMER_SECRET = \"IMNFnkJv1vdOuWWDUGj4UKGOs7GuKph00xZ87vLTiuNZzhqngu\"\n",
    "# OAUTH_TOKEN = \"1440684852232146948-cnmmqSPXC3qJ33v3D7WMZJINO6Utxn\"\n",
    "# OAUTH_TOKEN_SECRET = \"7D0yvzLpRIWjaNwXPI9WqVHPvxuim3mmCPO5N2t17LrAo\"\n",
    "\n",
    "# CONSUMER_KEY = \"8776pU7nhmoexUCPknHskmuCK\"\n",
    "# CONSUMER_SECRET = \"UoYbA7AjlBulFB5MuOFY3wuLuYy0ZkynnhnO1Vi4if5ur4xWDu\"\n",
    "# OAUTH_TOKEN = \"1288143709-zOCpcXHueA9QE6822Ns0x6qXshpurdeJupsJKzX\"\n",
    "# OAUTH_TOKEN_SECRET = \"yKmv4ezCEJdAn1C2omYx8MNyJwFiZOmsSv0WohUuXTBxz\"\n",
    "\n",
    "# Authenticate with the Twitter API\n",
    "auth = tweepy.OAuthHandler(CONSUMER_KEY, CONSUMER_SECRET)\n",
    "auth.set_access_token(OAUTH_TOKEN, OAUTH_TOKEN_SECRET)\n",
    "\n",
    "# Create the API object\n",
    "api = tweepy.API(auth)"
   ]
  },
  {
   "attachments": {},
   "cell_type": "markdown",
   "metadata": {},
   "source": [
    "**Define the username of the user whose tweets and comments you want to retrieve**"
   ]
  },
  {
   "cell_type": "code",
   "execution_count": 110,
   "metadata": {},
   "outputs": [],
   "source": [
    "username = 'TheDemocrats'\n",
    "\n",
    "# Get the latest 100 tweets of the user\n",
    "tweets = api.user_timeline(screen_name=username, count=400, tweet_mode='extended')\n",
    "\n",
    "# Create a list to store the data\n",
    "data = []\n"
   ]
  },
  {
   "attachments": {},
   "cell_type": "markdown",
   "metadata": {},
   "source": [
    "**Building the Dataset of the Tweets extracted**"
   ]
  },
  {
   "cell_type": "code",
   "execution_count": 111,
   "metadata": {},
   "outputs": [
    {
     "name": "stdout",
     "output_type": "stream",
     "text": [
      "Rate limit exceeded. Waiting for 15 minutes.\n"
     ]
    }
   ],
   "source": [
    "import time\n",
    "# For each tweet, get the top 1000 comments and store the data in the list\n",
    "for tweet in tweets:\n",
    "    try:\n",
    "        comments = api.search_tweets(q='to:'+username, since_id=tweet.id, count=1000, tweet_mode='extended')\n",
    "    except tweepy.TweepyException as e:\n",
    "        if \"Too Many Requests\" in str(e):\n",
    "            print(\"Rate limit exceeded. Waiting for 15 minutes.\")\n",
    "            time.sleep(15 * 60)  # Wait for 15 minutes\n",
    "            comments = api.search_tweets(q='to:'+username, since_id=tweet.id, count=1000, tweet_mode='extended')\n",
    "        else:\n",
    "            print(e)\n",
    "    for comment in comments:\n",
    "        if(comment.user.screen_name != username):\n",
    "            data.append({'tweet_id': comment.id, 'tweet': comment.full_text, 'user of the tweet': comment.user.screen_name})\n",
    "\n",
    "# Convert the list to a Pandas DataFrame\n",
    "df = pd.DataFrame(data)"
   ]
  },
  {
   "cell_type": "code",
   "execution_count": 112,
   "metadata": {},
   "outputs": [
    {
     "data": {
      "text/html": [
       "<div>\n",
       "<style scoped>\n",
       "    .dataframe tbody tr th:only-of-type {\n",
       "        vertical-align: middle;\n",
       "    }\n",
       "\n",
       "    .dataframe tbody tr th {\n",
       "        vertical-align: top;\n",
       "    }\n",
       "\n",
       "    .dataframe thead th {\n",
       "        text-align: right;\n",
       "    }\n",
       "</style>\n",
       "<table border=\"1\" class=\"dataframe\">\n",
       "  <thead>\n",
       "    <tr style=\"text-align: right;\">\n",
       "      <th></th>\n",
       "      <th>tweet_id</th>\n",
       "      <th>tweet</th>\n",
       "      <th>user of the tweet</th>\n",
       "    </tr>\n",
       "  </thead>\n",
       "  <tbody>\n",
       "    <tr>\n",
       "      <th>0</th>\n",
       "      <td>1649972417651982338</td>\n",
       "      <td>@TheDemocrats @JoeBiden YEP, WE REALLY NEED BE...</td>\n",
       "      <td>WHOAPATCH53</td>\n",
       "    </tr>\n",
       "    <tr>\n",
       "      <th>1</th>\n",
       "      <td>1649972186042732544</td>\n",
       "      <td>@TheDemocrats @JesusNarrowWay Get rid of DeSan...</td>\n",
       "      <td>ZeldaDan1</td>\n",
       "    </tr>\n",
       "    <tr>\n",
       "      <th>2</th>\n",
       "      <td>1649971468543959041</td>\n",
       "      <td>@TheDemocrats @JoeBiden You posted a picture o...</td>\n",
       "      <td>OldGardener137</td>\n",
       "    </tr>\n",
       "    <tr>\n",
       "      <th>3</th>\n",
       "      <td>1649971385316548611</td>\n",
       "      <td>@TheDemocrats @JoeBiden Fantastic. Why won’t h...</td>\n",
       "      <td>geoffkryten</td>\n",
       "    </tr>\n",
       "    <tr>\n",
       "      <th>4</th>\n",
       "      <td>1649971035880722432</td>\n",
       "      <td>@TheDemocrats @JoeBiden Pedophile</td>\n",
       "      <td>stormindentist</td>\n",
       "    </tr>\n",
       "    <tr>\n",
       "      <th>...</th>\n",
       "      <td>...</td>\n",
       "      <td>...</td>\n",
       "      <td>...</td>\n",
       "    </tr>\n",
       "    <tr>\n",
       "      <th>16595</th>\n",
       "      <td>1649963156578476035</td>\n",
       "      <td>RT @CreasonJana: @TheDemocrats, with help from...</td>\n",
       "      <td>MAdamson2022</td>\n",
       "    </tr>\n",
       "    <tr>\n",
       "      <th>16596</th>\n",
       "      <td>1649962494021238789</td>\n",
       "      <td>@TheDemocrats @JoeBiden https://t.co/uCYc2Bou4l</td>\n",
       "      <td>BetaTomorrow</td>\n",
       "    </tr>\n",
       "    <tr>\n",
       "      <th>16597</th>\n",
       "      <td>1649962376870100998</td>\n",
       "      <td>@TheDemocrats @JoeBiden https://t.co/Y0s9kpJ8xI</td>\n",
       "      <td>DavidHa17134419</td>\n",
       "    </tr>\n",
       "    <tr>\n",
       "      <th>16598</th>\n",
       "      <td>1649962345139957761</td>\n",
       "      <td>@TheDemocrats @JoeBiden Oh yikes, look at the ...</td>\n",
       "      <td>DiforTruth</td>\n",
       "    </tr>\n",
       "    <tr>\n",
       "      <th>16599</th>\n",
       "      <td>1649962169893617666</td>\n",
       "      <td>@TheDemocrats @JoeBiden Meanwhile 👇\\nhttps://t...</td>\n",
       "      <td>Bringit236</td>\n",
       "    </tr>\n",
       "  </tbody>\n",
       "</table>\n",
       "<p>16600 rows × 3 columns</p>\n",
       "</div>"
      ],
      "text/plain": [
       "                  tweet_id                                              tweet  \\\n",
       "0      1649972417651982338  @TheDemocrats @JoeBiden YEP, WE REALLY NEED BE...   \n",
       "1      1649972186042732544  @TheDemocrats @JesusNarrowWay Get rid of DeSan...   \n",
       "2      1649971468543959041  @TheDemocrats @JoeBiden You posted a picture o...   \n",
       "3      1649971385316548611  @TheDemocrats @JoeBiden Fantastic. Why won’t h...   \n",
       "4      1649971035880722432                  @TheDemocrats @JoeBiden Pedophile   \n",
       "...                    ...                                                ...   \n",
       "16595  1649963156578476035  RT @CreasonJana: @TheDemocrats, with help from...   \n",
       "16596  1649962494021238789    @TheDemocrats @JoeBiden https://t.co/uCYc2Bou4l   \n",
       "16597  1649962376870100998    @TheDemocrats @JoeBiden https://t.co/Y0s9kpJ8xI   \n",
       "16598  1649962345139957761  @TheDemocrats @JoeBiden Oh yikes, look at the ...   \n",
       "16599  1649962169893617666  @TheDemocrats @JoeBiden Meanwhile 👇\\nhttps://t...   \n",
       "\n",
       "      user of the tweet  \n",
       "0           WHOAPATCH53  \n",
       "1             ZeldaDan1  \n",
       "2        OldGardener137  \n",
       "3           geoffkryten  \n",
       "4        stormindentist  \n",
       "...                 ...  \n",
       "16595      MAdamson2022  \n",
       "16596      BetaTomorrow  \n",
       "16597   DavidHa17134419  \n",
       "16598        DiforTruth  \n",
       "16599        Bringit236  \n",
       "\n",
       "[16600 rows x 3 columns]"
      ]
     },
     "execution_count": 112,
     "metadata": {},
     "output_type": "execute_result"
    }
   ],
   "source": [
    "df"
   ]
  },
  {
   "attachments": {},
   "cell_type": "markdown",
   "metadata": {},
   "source": [
    "**Running the prediction across all 3 models**"
   ]
  },
  {
   "cell_type": "code",
   "execution_count": 114,
   "metadata": {},
   "outputs": [],
   "source": [
    "inp_data = df[\"tweet\"]\n",
    "pred_1 = [1 if svm_pipeline.predict([i]) == [1] else 0 for i in inp_data]\n",
    "pred_2 = [1 if rf_pipeline.predict([i]) == [1] else 0 for i in inp_data]\n",
    "pred_3 = [1 if nb_pipeline.predict([i]) == [1] else 0 for i in inp_data]\n",
    "\n",
    "\n",
    "n = len(pred_1)\n",
    "combine_pred = []\n",
    "for i in range(n):\n",
    "    if pred_1[i] == 1 or pred_2[i] == 1 or pred_3[i] == 1:\n",
    "        combine_pred.append(1)\n",
    "    else:\n",
    "        combine_pred.append(0)\n"
   ]
  },
  {
   "attachments": {},
   "cell_type": "markdown",
   "metadata": {},
   "source": [
    "**Adding the prediction column to the dataframe**"
   ]
  },
  {
   "cell_type": "code",
   "execution_count": 115,
   "metadata": {},
   "outputs": [
    {
     "data": {
      "text/html": [
       "<div>\n",
       "<style scoped>\n",
       "    .dataframe tbody tr th:only-of-type {\n",
       "        vertical-align: middle;\n",
       "    }\n",
       "\n",
       "    .dataframe tbody tr th {\n",
       "        vertical-align: top;\n",
       "    }\n",
       "\n",
       "    .dataframe thead th {\n",
       "        text-align: right;\n",
       "    }\n",
       "</style>\n",
       "<table border=\"1\" class=\"dataframe\">\n",
       "  <thead>\n",
       "    <tr style=\"text-align: right;\">\n",
       "      <th></th>\n",
       "      <th>tweet_id</th>\n",
       "      <th>tweet</th>\n",
       "      <th>user of the tweet</th>\n",
       "      <th>Prediction</th>\n",
       "    </tr>\n",
       "  </thead>\n",
       "  <tbody>\n",
       "    <tr>\n",
       "      <th>0</th>\n",
       "      <td>1649972417651982338</td>\n",
       "      <td>@TheDemocrats @JoeBiden YEP, WE REALLY NEED BE...</td>\n",
       "      <td>WHOAPATCH53</td>\n",
       "      <td>0</td>\n",
       "    </tr>\n",
       "    <tr>\n",
       "      <th>1</th>\n",
       "      <td>1649972186042732544</td>\n",
       "      <td>@TheDemocrats @JesusNarrowWay Get rid of DeSan...</td>\n",
       "      <td>ZeldaDan1</td>\n",
       "      <td>0</td>\n",
       "    </tr>\n",
       "    <tr>\n",
       "      <th>2</th>\n",
       "      <td>1649971468543959041</td>\n",
       "      <td>@TheDemocrats @JoeBiden You posted a picture o...</td>\n",
       "      <td>OldGardener137</td>\n",
       "      <td>0</td>\n",
       "    </tr>\n",
       "    <tr>\n",
       "      <th>3</th>\n",
       "      <td>1649971385316548611</td>\n",
       "      <td>@TheDemocrats @JoeBiden Fantastic. Why won’t h...</td>\n",
       "      <td>geoffkryten</td>\n",
       "      <td>0</td>\n",
       "    </tr>\n",
       "    <tr>\n",
       "      <th>4</th>\n",
       "      <td>1649971035880722432</td>\n",
       "      <td>@TheDemocrats @JoeBiden Pedophile</td>\n",
       "      <td>stormindentist</td>\n",
       "      <td>1</td>\n",
       "    </tr>\n",
       "    <tr>\n",
       "      <th>...</th>\n",
       "      <td>...</td>\n",
       "      <td>...</td>\n",
       "      <td>...</td>\n",
       "      <td>...</td>\n",
       "    </tr>\n",
       "    <tr>\n",
       "      <th>16595</th>\n",
       "      <td>1649963156578476035</td>\n",
       "      <td>RT @CreasonJana: @TheDemocrats, with help from...</td>\n",
       "      <td>MAdamson2022</td>\n",
       "      <td>0</td>\n",
       "    </tr>\n",
       "    <tr>\n",
       "      <th>16596</th>\n",
       "      <td>1649962494021238789</td>\n",
       "      <td>@TheDemocrats @JoeBiden https://t.co/uCYc2Bou4l</td>\n",
       "      <td>BetaTomorrow</td>\n",
       "      <td>0</td>\n",
       "    </tr>\n",
       "    <tr>\n",
       "      <th>16597</th>\n",
       "      <td>1649962376870100998</td>\n",
       "      <td>@TheDemocrats @JoeBiden https://t.co/Y0s9kpJ8xI</td>\n",
       "      <td>DavidHa17134419</td>\n",
       "      <td>0</td>\n",
       "    </tr>\n",
       "    <tr>\n",
       "      <th>16598</th>\n",
       "      <td>1649962345139957761</td>\n",
       "      <td>@TheDemocrats @JoeBiden Oh yikes, look at the ...</td>\n",
       "      <td>DiforTruth</td>\n",
       "      <td>1</td>\n",
       "    </tr>\n",
       "    <tr>\n",
       "      <th>16599</th>\n",
       "      <td>1649962169893617666</td>\n",
       "      <td>@TheDemocrats @JoeBiden Meanwhile 👇\\nhttps://t...</td>\n",
       "      <td>Bringit236</td>\n",
       "      <td>0</td>\n",
       "    </tr>\n",
       "  </tbody>\n",
       "</table>\n",
       "<p>16600 rows × 4 columns</p>\n",
       "</div>"
      ],
      "text/plain": [
       "                  tweet_id                                              tweet  \\\n",
       "0      1649972417651982338  @TheDemocrats @JoeBiden YEP, WE REALLY NEED BE...   \n",
       "1      1649972186042732544  @TheDemocrats @JesusNarrowWay Get rid of DeSan...   \n",
       "2      1649971468543959041  @TheDemocrats @JoeBiden You posted a picture o...   \n",
       "3      1649971385316548611  @TheDemocrats @JoeBiden Fantastic. Why won’t h...   \n",
       "4      1649971035880722432                  @TheDemocrats @JoeBiden Pedophile   \n",
       "...                    ...                                                ...   \n",
       "16595  1649963156578476035  RT @CreasonJana: @TheDemocrats, with help from...   \n",
       "16596  1649962494021238789    @TheDemocrats @JoeBiden https://t.co/uCYc2Bou4l   \n",
       "16597  1649962376870100998    @TheDemocrats @JoeBiden https://t.co/Y0s9kpJ8xI   \n",
       "16598  1649962345139957761  @TheDemocrats @JoeBiden Oh yikes, look at the ...   \n",
       "16599  1649962169893617666  @TheDemocrats @JoeBiden Meanwhile 👇\\nhttps://t...   \n",
       "\n",
       "      user of the tweet  Prediction  \n",
       "0           WHOAPATCH53           0  \n",
       "1             ZeldaDan1           0  \n",
       "2        OldGardener137           0  \n",
       "3           geoffkryten           0  \n",
       "4        stormindentist           1  \n",
       "...                 ...         ...  \n",
       "16595      MAdamson2022           0  \n",
       "16596      BetaTomorrow           0  \n",
       "16597   DavidHa17134419           0  \n",
       "16598        DiforTruth           1  \n",
       "16599        Bringit236           0  \n",
       "\n",
       "[16600 rows x 4 columns]"
      ]
     },
     "execution_count": 115,
     "metadata": {},
     "output_type": "execute_result"
    }
   ],
   "source": [
    "# combine_pred = pred_1 + pred_2 + pred_3\n",
    "new_column_series = pd.Series(combine_pred)\n",
    "\n",
    "# add the new column to the original dataframe\n",
    "df.insert(loc=3,column='Prediction', value=new_column_series)\n",
    "df"
   ]
  },
  {
   "attachments": {},
   "cell_type": "markdown",
   "metadata": {},
   "source": [
    "**Identifying Toxic Users**"
   ]
  },
  {
   "cell_type": "code",
   "execution_count": 116,
   "metadata": {},
   "outputs": [
    {
     "data": {
      "text/plain": [
       "1728"
      ]
     },
     "execution_count": 116,
     "metadata": {},
     "output_type": "execute_result"
    }
   ],
   "source": [
    "toxic_users = [ i[\"user of the tweet\"] for index,i in df.iterrows() if i[\"Prediction\"] == 1]\n",
    "len(toxic_users)"
   ]
  },
  {
   "cell_type": "code",
   "execution_count": 117,
   "metadata": {},
   "outputs": [
    {
     "data": {
      "text/plain": [
       "10"
      ]
     },
     "execution_count": 117,
     "metadata": {},
     "output_type": "execute_result"
    }
   ],
   "source": [
    "toxic_users_unique = list(set(toxic_users))\n",
    "len(toxic_users_unique)"
   ]
  },
  {
   "attachments": {},
   "cell_type": "markdown",
   "metadata": {},
   "source": [
    "**These are the toxic users**"
   ]
  },
  {
   "cell_type": "code",
   "execution_count": 118,
   "metadata": {},
   "outputs": [
    {
     "data": {
      "text/plain": [
       "['dylan_corp',\n",
       " 'oznev2',\n",
       " 'pacer2000',\n",
       " 'bergasorio',\n",
       " 'rumprlstilsken',\n",
       " 'stormindentist',\n",
       " 'vegasdude71',\n",
       " 'DiforTruth',\n",
       " 'GlennHinzman',\n",
       " 'chris_tondre']"
      ]
     },
     "execution_count": 118,
     "metadata": {},
     "output_type": "execute_result"
    }
   ],
   "source": [
    "toxic_users_unique"
   ]
  },
  {
   "cell_type": "code",
   "execution_count": 119,
   "metadata": {},
   "outputs": [],
   "source": [
    "def lookup_users_chunks(api, user_ids):\n",
    "    chunks = [user_ids[i:i+100] for i in range(0, len(user_ids), 100)]\n",
    "    # Lookup user information for each chunk of 100 user IDs\n",
    "    users = []\n",
    "    for chunk in chunks:\n",
    "        lookup_users = api.lookup_users(user_id=chunk)\n",
    "        users.extend(lookup_users)\n",
    "    \n",
    "    return users"
   ]
  },
  {
   "attachments": {},
   "cell_type": "markdown",
   "metadata": {},
   "source": [
    "**Creating a Social Network**"
   ]
  },
  {
   "cell_type": "code",
   "execution_count": 120,
   "metadata": {},
   "outputs": [
    {
     "name": "stdout",
     "output_type": "stream",
     "text": [
      "Rate limit exceeded. Waiting for 15 minutes.\n"
     ]
    },
    {
     "data": {
      "image/png": "[encoded data removed]",
      "text/plain": [
       "<Figure size 640x480 with 1 Axes>"
      ]
     },
     "metadata": {},
     "output_type": "display_data"
    }
   ],
   "source": [
    "import networkx as nx\n",
    "import matplotlib.pyplot as plt\n",
    "\n",
    "depth = 2\n",
    "\n",
    "# Initialize the graph\n",
    "G = nx.Graph()\n",
    "\n",
    "# Add the nodes to the graph\n",
    "for username in toxic_users:\n",
    "    try:\n",
    "        user = api.get_user(screen_name=username)\n",
    "    except tweepy.TweepyException as e:\n",
    "        if \"Too Many Requests\" in str(e):\n",
    "              print(\"Rate limit exceeded. Waiting for 15 minutes.\")\n",
    "              time.sleep(15 * 60)  # Wait for 15 minutes\n",
    "              user = api.get_user(screen_name=username)\n",
    "        else:\n",
    "            print(e)\n",
    "    G.add_node(username, name=user.name, color=\"blue\")\n",
    "\n",
    "# Add the edges to the graph\n",
    "for d in range(1, depth+1):\n",
    "    for username in toxic_users:\n",
    "        if G.nodes[username].get('depth') == d-1:\n",
    "            try:\n",
    "                user = api.get_user(screen_name=username)\n",
    "                friends = api.get_friend_ids(screen_name=username)\n",
    "                lookup_users = lookup_users_chunks(api=api,user_ids=friends)\n",
    "                for target in lookup_users:\n",
    "                    if G.has_node(target.screen_name):\n",
    "                        G.add_edge(username, target.screen_name)\n",
    "            except tweepy.TweepyException as e:\n",
    "                if \"Too Many Requests\" in str(e):\n",
    "                    print(\"Rate limit exceeded. Waiting for 15 minutes.\")\n",
    "                    time.sleep(15 * 60)  # Wait for 15 minutes\n",
    "                    user = api.get_user(screen_name=username)\n",
    "                    friends = api.get_friend_ids(screen_name=username)\n",
    "                    lookup_users = lookup_users_chunks(api=api,user_ids=friends)\n",
    "                else:\n",
    "                    print(f\"Error processing {username}: {str(e)}\")\n",
    "        G.nodes[username]['depth'] = d\n",
    "\n",
    "# Draw the graph\n",
    "node_colors = [node[1]['color'] for node in G.nodes(data=True)]\n",
    "nx.draw(G, with_labels=True, node_color=node_colors)\n",
    "plt.show()"
   ]
  }
 ],
 "metadata": {
  "kernelspec": {
   "display_name": "Python 3",
   "language": "python",
   "name": "python3"
  },
  "language_info": {
   "codemirror_mode": {
    "name": "ipython",
    "version": 3
   },
   "file_extension": ".py",
   "mimetype": "text/x-python",
   "name": "python",
   "nbconvert_exporter": "python",
   "pygments_lexer": "ipython3",
   "version": "3.10.6"
  },
  "orig_nbformat": 4,
  "vscode": {
   "interpreter": {
    "hash": "aee8b7b246df8f9039afb4144a1f6fd8d2ca17a180786b69acc140d282b71a49"
   }
  }
 },
 "nbformat": 4,
 "nbformat_minor": 2
}
